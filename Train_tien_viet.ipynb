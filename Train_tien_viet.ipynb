{
  "nbformat": 4,
  "nbformat_minor": 0,
  "metadata": {
    "colab": {
      "provenance": [],
      "mount_file_id": "1iyRBaGQL--FxSH27onQI2ndrz55SQeM9",
      "authorship_tag": "ABX9TyPHPDluBatddkaBxgthUWj9",
      "include_colab_link": true
    },
    "kernelspec": {
      "name": "python3",
      "display_name": "Python 3"
    },
    "language_info": {
      "name": "python"
    },
    "accelerator": "GPU",
    "gpuClass": "standard"
  },
  "cells": [
    {
      "cell_type": "markdown",
      "metadata": {
        "id": "view-in-github",
        "colab_type": "text"
      },
      "source": [
        "<a href=\"https://colab.research.google.com/github/Alex-Hoang666/AI/blob/main/Train_tien_viet.ipynb\" target=\"_parent\"><img src=\"https://colab.research.google.com/assets/colab-badge.svg\" alt=\"Open In Colab\"/></a>"
      ]
    },
    {
      "cell_type": "code",
      "execution_count": null,
      "metadata": {
        "id": "Kb4i4niGxH2B",
        "colab": {
          "base_uri": "https://localhost:8080/"
        },
        "outputId": "31e2467c-20c9-4ca5-be5f-469bf01b650a"
      },
      "outputs": [
        {
          "output_type": "stream",
          "name": "stdout",
          "text": [
            "(360, 30, 40, 3) (360,)\n"
          ]
        }
      ],
      "source": [
        "#import thư viện\n",
        "from os import listdir\n",
        "from numpy import asarray\n",
        "from numpy import save\n",
        "from keras.utils import load_img, img_to_array\n",
        "#load folder datasets\n",
        "folder = '/content/drive/MyDrive/Train/Tien_viet/'\n",
        "#tiến hành tiền xử lý dữ liệu\n",
        "photos, labels = list(), list()\n",
        "for file in listdir(folder):\n",
        "  output = 0.0\n",
        "  if file.startswith('5000 '):\n",
        "    output = 1.0\n",
        "  if file.startswith('10000 '):\n",
        "    output = 2.0\n",
        "  if file.startswith('20000 '):\n",
        "    output = 3.0\n",
        "  if file.startswith('50000 '):\n",
        "    output = 4.0\n",
        "  if file.startswith('100000 '):\n",
        "    output = 5.0\n",
        "  if file.startswith('200000 '):\n",
        "    output = 6.0\n",
        "  if file.startswith('500000 '):\n",
        "    output = 7.0\n",
        "  img =load_img(folder+file,target_size=(30,40))\n",
        "  photo = img_to_array(img)\n",
        "  photos.append(photo)\n",
        "  labels.append(output)\n",
        "photos = asarray(photos)\n",
        "labels = asarray(labels)\n",
        "print(photos.shape,labels.shape)\n",
        "# lưu dữ liệu vừa xử lý\n",
        "save('Tien_photos_train.npy',photos)\n",
        "save('Tien_labels_train.npy',labels)"
      ]
    },
    {
      "cell_type": "code",
      "source": [
        "# kết nối với driver để load dữ liệu\n",
        "from google.colab import drive\n",
        "drive.mount('/content/drive')"
      ],
      "metadata": {
        "id": "Zg7rEqYs2dId",
        "colab": {
          "base_uri": "https://localhost:8080/"
        },
        "outputId": "77e86bab-e374-4f33-937f-f85c03abed55"
      },
      "execution_count": null,
      "outputs": [
        {
          "output_type": "stream",
          "name": "stdout",
          "text": [
            "Drive already mounted at /content/drive; to attempt to forcibly remount, call drive.mount(\"/content/drive\", force_remount=True).\n"
          ]
        }
      ]
    },
    {
      "cell_type": "code",
      "source": [
        "# tạo dữ liệu train\n",
        "import numpy as np\n",
        "x_train = np.load('/content/Tien_photos_train.npy')\n",
        "y_train = np.load('/content/Tien_labels_train.npy')"
      ],
      "metadata": {
        "id": "Wg-0uSDj3wiD"
      },
      "execution_count": null,
      "outputs": []
    },
    {
      "cell_type": "code",
      "source": [
        "x_train = x_train.astype('float32')/255\n",
        "from keras.utils import to_categorical\n",
        "y_train = to_categorical(y_train,10)"
      ],
      "metadata": {
        "id": "iQAT2wDJ3y90"
      },
      "execution_count": null,
      "outputs": []
    },
    {
      "cell_type": "code",
      "source": [
        "# tiến hành tích chập\n",
        "from keras.models import Sequential\n",
        "from keras.layers import Dense,Dropout,Flatten,Conv2D,MaxPooling2D,Normalization,LeakyReLU\n",
        "from keras.optimizers import Adam\n",
        "\n",
        "#32 lan tich chap\n",
        "model = Sequential()\n",
        "model.add(Conv2D(32,kernel_size = (3,3),activation = 'relu',input_shape=(30,40,3),padding='Same'))\n",
        "model.add(MaxPooling2D((2,2),padding='same'))\n",
        "model.add(Dropout(0.25))\n",
        "\n",
        "#64 lan tich chap\n",
        "model.add(Conv2D(64,(3,3),activation ='relu',padding ='same'))\n",
        "model.add(MaxPooling2D((2,2),padding='same'))\n",
        "model.add(Dropout(0.25))\n",
        "\n",
        "#128 lan tich chap\n",
        "model.add(Conv2D(128,(3,3),activation ='relu',padding ='same'))\n",
        "model.add(MaxPooling2D((2,2),padding='same'))\n",
        "model.add(Dropout(0.25))\n",
        "\n",
        "#256 lan tich chap\n",
        "model.add(Conv2D(256,(3,3),activation ='relu',padding ='same'))\n",
        "model.add(MaxPooling2D((2,2),padding='same'))\n",
        "model.add(Dropout(0.25))\n",
        "\n",
        "model.add(Flatten())\n",
        "model.add(Dense(64,activation = 'relu'))\n",
        "model.add(Dropout(0.25))\n",
        "model.add(Dense(10,activation='softmax'))\n",
        "\n",
        "from keras.losses import categorical_crossentropy\n",
        "model.compile(loss = categorical_crossentropy,optimizer = Adam(),metrics=['accuracy'])\n",
        "model.summary()\n",
        "train = model.fit(x_train,y_train,batch_size=32,epochs = 100,verbose = 1)"
      ],
      "metadata": {
        "id": "ic1PPKAR33DL",
        "colab": {
          "base_uri": "https://localhost:8080/"
        },
        "outputId": "41f4e897-9238-4278-cb70-f5a808324823"
      },
      "execution_count": null,
      "outputs": [
        {
          "output_type": "stream",
          "name": "stdout",
          "text": [
            "Model: \"sequential_10\"\n",
            "_________________________________________________________________\n",
            " Layer (type)                Output Shape              Param #   \n",
            "=================================================================\n",
            " conv2d_37 (Conv2D)          (None, 30, 40, 32)        896       \n",
            "                                                                 \n",
            " max_pooling2d_37 (MaxPoolin  (None, 15, 20, 32)       0         \n",
            " g2D)                                                            \n",
            "                                                                 \n",
            " dropout_47 (Dropout)        (None, 15, 20, 32)        0         \n",
            "                                                                 \n",
            " conv2d_38 (Conv2D)          (None, 15, 20, 64)        18496     \n",
            "                                                                 \n",
            " max_pooling2d_38 (MaxPoolin  (None, 8, 10, 64)        0         \n",
            " g2D)                                                            \n",
            "                                                                 \n",
            " dropout_48 (Dropout)        (None, 8, 10, 64)         0         \n",
            "                                                                 \n",
            " conv2d_39 (Conv2D)          (None, 8, 10, 128)        73856     \n",
            "                                                                 \n",
            " max_pooling2d_39 (MaxPoolin  (None, 4, 5, 128)        0         \n",
            " g2D)                                                            \n",
            "                                                                 \n",
            " dropout_49 (Dropout)        (None, 4, 5, 128)         0         \n",
            "                                                                 \n",
            " conv2d_40 (Conv2D)          (None, 4, 5, 256)         295168    \n",
            "                                                                 \n",
            " max_pooling2d_40 (MaxPoolin  (None, 2, 3, 256)        0         \n",
            " g2D)                                                            \n",
            "                                                                 \n",
            " dropout_50 (Dropout)        (None, 2, 3, 256)         0         \n",
            "                                                                 \n",
            " flatten_10 (Flatten)        (None, 1536)              0         \n",
            "                                                                 \n",
            " dense_20 (Dense)            (None, 64)                98368     \n",
            "                                                                 \n",
            " dropout_51 (Dropout)        (None, 64)                0         \n",
            "                                                                 \n",
            " dense_21 (Dense)            (None, 10)                650       \n",
            "                                                                 \n",
            "=================================================================\n",
            "Total params: 487,434\n",
            "Trainable params: 487,434\n",
            "Non-trainable params: 0\n",
            "_________________________________________________________________\n",
            "Epoch 1/100\n",
            "12/12 [==============================] - 1s 7ms/step - loss: 2.0478 - accuracy: 0.1833\n",
            "Epoch 2/100\n",
            "12/12 [==============================] - 0s 6ms/step - loss: 1.9816 - accuracy: 0.1556\n",
            "Epoch 3/100\n",
            "12/12 [==============================] - 0s 6ms/step - loss: 1.9258 - accuracy: 0.1639\n",
            "Epoch 4/100\n",
            "12/12 [==============================] - 0s 6ms/step - loss: 1.8253 - accuracy: 0.2389\n",
            "Epoch 5/100\n",
            "12/12 [==============================] - 0s 6ms/step - loss: 1.6960 - accuracy: 0.2667\n",
            "Epoch 6/100\n",
            "12/12 [==============================] - 0s 5ms/step - loss: 1.6434 - accuracy: 0.3000\n",
            "Epoch 7/100\n",
            "12/12 [==============================] - 0s 5ms/step - loss: 1.5756 - accuracy: 0.3361\n",
            "Epoch 8/100\n",
            "12/12 [==============================] - 0s 5ms/step - loss: 1.6194 - accuracy: 0.3139\n",
            "Epoch 9/100\n",
            "12/12 [==============================] - 0s 6ms/step - loss: 1.5217 - accuracy: 0.3750\n",
            "Epoch 10/100\n",
            "12/12 [==============================] - 0s 5ms/step - loss: 1.4969 - accuracy: 0.3583\n",
            "Epoch 11/100\n",
            "12/12 [==============================] - 0s 5ms/step - loss: 1.4583 - accuracy: 0.3667\n",
            "Epoch 12/100\n",
            "12/12 [==============================] - 0s 5ms/step - loss: 1.4090 - accuracy: 0.4167\n",
            "Epoch 13/100\n",
            "12/12 [==============================] - 0s 5ms/step - loss: 1.3781 - accuracy: 0.4028\n",
            "Epoch 14/100\n",
            "12/12 [==============================] - 0s 5ms/step - loss: 1.3622 - accuracy: 0.4278\n",
            "Epoch 15/100\n",
            "12/12 [==============================] - 0s 5ms/step - loss: 1.2957 - accuracy: 0.4556\n",
            "Epoch 16/100\n",
            "12/12 [==============================] - 0s 5ms/step - loss: 1.2477 - accuracy: 0.4583\n",
            "Epoch 17/100\n",
            "12/12 [==============================] - 0s 5ms/step - loss: 1.1532 - accuracy: 0.5028\n",
            "Epoch 18/100\n",
            "12/12 [==============================] - 0s 5ms/step - loss: 1.1330 - accuracy: 0.5417\n",
            "Epoch 19/100\n",
            "12/12 [==============================] - 0s 7ms/step - loss: 0.9964 - accuracy: 0.5917\n",
            "Epoch 20/100\n",
            "12/12 [==============================] - 0s 7ms/step - loss: 0.9165 - accuracy: 0.6194\n",
            "Epoch 21/100\n",
            "12/12 [==============================] - 0s 6ms/step - loss: 0.8127 - accuracy: 0.6889\n",
            "Epoch 22/100\n",
            "12/12 [==============================] - 0s 6ms/step - loss: 0.8979 - accuracy: 0.6556\n",
            "Epoch 23/100\n",
            "12/12 [==============================] - 0s 7ms/step - loss: 0.8016 - accuracy: 0.6944\n",
            "Epoch 24/100\n",
            "12/12 [==============================] - 0s 6ms/step - loss: 0.6841 - accuracy: 0.7194\n",
            "Epoch 25/100\n",
            "12/12 [==============================] - 0s 6ms/step - loss: 0.6876 - accuracy: 0.7222\n",
            "Epoch 26/100\n",
            "12/12 [==============================] - 0s 6ms/step - loss: 0.5911 - accuracy: 0.7861\n",
            "Epoch 27/100\n",
            "12/12 [==============================] - 0s 6ms/step - loss: 0.5614 - accuracy: 0.7889\n",
            "Epoch 28/100\n",
            "12/12 [==============================] - 0s 6ms/step - loss: 0.4326 - accuracy: 0.8361\n",
            "Epoch 29/100\n",
            "12/12 [==============================] - 0s 6ms/step - loss: 0.3968 - accuracy: 0.8694\n",
            "Epoch 30/100\n",
            "12/12 [==============================] - 0s 6ms/step - loss: 0.3461 - accuracy: 0.8806\n",
            "Epoch 31/100\n",
            "12/12 [==============================] - 0s 6ms/step - loss: 0.3316 - accuracy: 0.8833\n",
            "Epoch 32/100\n",
            "12/12 [==============================] - 0s 6ms/step - loss: 0.2997 - accuracy: 0.8833\n",
            "Epoch 33/100\n",
            "12/12 [==============================] - 0s 6ms/step - loss: 0.2734 - accuracy: 0.8917\n",
            "Epoch 34/100\n",
            "12/12 [==============================] - 0s 6ms/step - loss: 0.2878 - accuracy: 0.8917\n",
            "Epoch 35/100\n",
            "12/12 [==============================] - 0s 6ms/step - loss: 0.2527 - accuracy: 0.9056\n",
            "Epoch 36/100\n",
            "12/12 [==============================] - 0s 7ms/step - loss: 0.3496 - accuracy: 0.8556\n",
            "Epoch 37/100\n",
            "12/12 [==============================] - 0s 6ms/step - loss: 0.2487 - accuracy: 0.9056\n",
            "Epoch 38/100\n",
            "12/12 [==============================] - 0s 7ms/step - loss: 0.2975 - accuracy: 0.8806\n",
            "Epoch 39/100\n",
            "12/12 [==============================] - 0s 7ms/step - loss: 0.3430 - accuracy: 0.8472\n",
            "Epoch 40/100\n",
            "12/12 [==============================] - 0s 6ms/step - loss: 0.3069 - accuracy: 0.8778\n",
            "Epoch 41/100\n",
            "12/12 [==============================] - 0s 6ms/step - loss: 0.2430 - accuracy: 0.9000\n",
            "Epoch 42/100\n",
            "12/12 [==============================] - 0s 6ms/step - loss: 0.2024 - accuracy: 0.9083\n",
            "Epoch 43/100\n",
            "12/12 [==============================] - 0s 6ms/step - loss: 0.2335 - accuracy: 0.9222\n",
            "Epoch 44/100\n",
            "12/12 [==============================] - 0s 6ms/step - loss: 0.1453 - accuracy: 0.9444\n",
            "Epoch 45/100\n",
            "12/12 [==============================] - 0s 7ms/step - loss: 0.1526 - accuracy: 0.9417\n",
            "Epoch 46/100\n",
            "12/12 [==============================] - 0s 7ms/step - loss: 0.1965 - accuracy: 0.9278\n",
            "Epoch 47/100\n",
            "12/12 [==============================] - 0s 7ms/step - loss: 0.1529 - accuracy: 0.9528\n",
            "Epoch 48/100\n",
            "12/12 [==============================] - 0s 7ms/step - loss: 0.1591 - accuracy: 0.9389\n",
            "Epoch 49/100\n",
            "12/12 [==============================] - 0s 6ms/step - loss: 0.2672 - accuracy: 0.8944\n",
            "Epoch 50/100\n",
            "12/12 [==============================] - 0s 7ms/step - loss: 0.1454 - accuracy: 0.9472\n",
            "Epoch 51/100\n",
            "12/12 [==============================] - 0s 7ms/step - loss: 0.1339 - accuracy: 0.9556\n",
            "Epoch 52/100\n",
            "12/12 [==============================] - 0s 6ms/step - loss: 0.1487 - accuracy: 0.9444\n",
            "Epoch 53/100\n",
            "12/12 [==============================] - 0s 5ms/step - loss: 0.1793 - accuracy: 0.9194\n",
            "Epoch 54/100\n",
            "12/12 [==============================] - 0s 5ms/step - loss: 0.1845 - accuracy: 0.9333\n",
            "Epoch 55/100\n",
            "12/12 [==============================] - 0s 5ms/step - loss: 0.1442 - accuracy: 0.9583\n",
            "Epoch 56/100\n",
            "12/12 [==============================] - 0s 5ms/step - loss: 0.1026 - accuracy: 0.9583\n",
            "Epoch 57/100\n",
            "12/12 [==============================] - 0s 5ms/step - loss: 0.1307 - accuracy: 0.9500\n",
            "Epoch 58/100\n",
            "12/12 [==============================] - 0s 5ms/step - loss: 0.0920 - accuracy: 0.9667\n",
            "Epoch 59/100\n",
            "12/12 [==============================] - 0s 5ms/step - loss: 0.1627 - accuracy: 0.9472\n",
            "Epoch 60/100\n",
            "12/12 [==============================] - 0s 5ms/step - loss: 0.1645 - accuracy: 0.9278\n",
            "Epoch 61/100\n",
            "12/12 [==============================] - 0s 6ms/step - loss: 0.1290 - accuracy: 0.9583\n",
            "Epoch 62/100\n",
            "12/12 [==============================] - 0s 5ms/step - loss: 0.1196 - accuracy: 0.9472\n",
            "Epoch 63/100\n",
            "12/12 [==============================] - 0s 5ms/step - loss: 0.0993 - accuracy: 0.9611\n",
            "Epoch 64/100\n",
            "12/12 [==============================] - 0s 5ms/step - loss: 0.0774 - accuracy: 0.9778\n",
            "Epoch 65/100\n",
            "12/12 [==============================] - 0s 5ms/step - loss: 0.0709 - accuracy: 0.9778\n",
            "Epoch 66/100\n",
            "12/12 [==============================] - 0s 5ms/step - loss: 0.1058 - accuracy: 0.9639\n",
            "Epoch 67/100\n",
            "12/12 [==============================] - 0s 5ms/step - loss: 0.1223 - accuracy: 0.9528\n",
            "Epoch 68/100\n",
            "12/12 [==============================] - 0s 5ms/step - loss: 0.0908 - accuracy: 0.9611\n",
            "Epoch 69/100\n",
            "12/12 [==============================] - 0s 5ms/step - loss: 0.1041 - accuracy: 0.9639\n",
            "Epoch 70/100\n",
            "12/12 [==============================] - 0s 5ms/step - loss: 0.0902 - accuracy: 0.9694\n",
            "Epoch 71/100\n",
            "12/12 [==============================] - 0s 5ms/step - loss: 0.0834 - accuracy: 0.9722\n",
            "Epoch 72/100\n",
            "12/12 [==============================] - 0s 5ms/step - loss: 0.0861 - accuracy: 0.9639\n",
            "Epoch 73/100\n",
            "12/12 [==============================] - 0s 5ms/step - loss: 0.0989 - accuracy: 0.9639\n",
            "Epoch 74/100\n",
            "12/12 [==============================] - 0s 5ms/step - loss: 0.1043 - accuracy: 0.9611\n",
            "Epoch 75/100\n",
            "12/12 [==============================] - 0s 5ms/step - loss: 0.1073 - accuracy: 0.9583\n",
            "Epoch 76/100\n",
            "12/12 [==============================] - 0s 6ms/step - loss: 0.0964 - accuracy: 0.9611\n",
            "Epoch 77/100\n",
            "12/12 [==============================] - 0s 5ms/step - loss: 0.0893 - accuracy: 0.9694\n",
            "Epoch 78/100\n",
            "12/12 [==============================] - 0s 5ms/step - loss: 0.1248 - accuracy: 0.9417\n",
            "Epoch 79/100\n",
            "12/12 [==============================] - 0s 5ms/step - loss: 0.0673 - accuracy: 0.9750\n",
            "Epoch 80/100\n",
            "12/12 [==============================] - 0s 5ms/step - loss: 0.0782 - accuracy: 0.9694\n",
            "Epoch 81/100\n",
            "12/12 [==============================] - 0s 5ms/step - loss: 0.0665 - accuracy: 0.9750\n",
            "Epoch 82/100\n",
            "12/12 [==============================] - 0s 5ms/step - loss: 0.0422 - accuracy: 0.9861\n",
            "Epoch 83/100\n",
            "12/12 [==============================] - 0s 5ms/step - loss: 0.0339 - accuracy: 0.9861\n",
            "Epoch 84/100\n",
            "12/12 [==============================] - 0s 5ms/step - loss: 0.0660 - accuracy: 0.9806\n",
            "Epoch 85/100\n",
            "12/12 [==============================] - 0s 5ms/step - loss: 0.0611 - accuracy: 0.9694\n",
            "Epoch 86/100\n",
            "12/12 [==============================] - 0s 5ms/step - loss: 0.0696 - accuracy: 0.9833\n",
            "Epoch 87/100\n",
            "12/12 [==============================] - 0s 5ms/step - loss: 0.0646 - accuracy: 0.9750\n",
            "Epoch 88/100\n",
            "12/12 [==============================] - 0s 5ms/step - loss: 0.0481 - accuracy: 0.9806\n",
            "Epoch 89/100\n",
            "12/12 [==============================] - 0s 5ms/step - loss: 0.0483 - accuracy: 0.9806\n",
            "Epoch 90/100\n",
            "12/12 [==============================] - 0s 5ms/step - loss: 0.0668 - accuracy: 0.9750\n",
            "Epoch 91/100\n",
            "12/12 [==============================] - 0s 6ms/step - loss: 0.0328 - accuracy: 0.9889\n",
            "Epoch 92/100\n",
            "12/12 [==============================] - 0s 5ms/step - loss: 0.0466 - accuracy: 0.9833\n",
            "Epoch 93/100\n",
            "12/12 [==============================] - 0s 5ms/step - loss: 0.0400 - accuracy: 0.9917\n",
            "Epoch 94/100\n",
            "12/12 [==============================] - 0s 5ms/step - loss: 0.0248 - accuracy: 0.9944\n",
            "Epoch 95/100\n",
            "12/12 [==============================] - 0s 5ms/step - loss: 0.0275 - accuracy: 0.9917\n",
            "Epoch 96/100\n",
            "12/12 [==============================] - 0s 5ms/step - loss: 0.0220 - accuracy: 0.9972\n",
            "Epoch 97/100\n",
            "12/12 [==============================] - 0s 5ms/step - loss: 0.0220 - accuracy: 0.9944\n",
            "Epoch 98/100\n",
            "12/12 [==============================] - 0s 5ms/step - loss: 0.0188 - accuracy: 0.9972\n",
            "Epoch 99/100\n",
            "12/12 [==============================] - 0s 5ms/step - loss: 0.0361 - accuracy: 0.9944\n",
            "Epoch 100/100\n",
            "12/12 [==============================] - 0s 5ms/step - loss: 0.0289 - accuracy: 0.9944\n"
          ]
        }
      ]
    },
    {
      "cell_type": "code",
      "source": [
        "#lưu mô hình vừa train\n",
        "model.save('Tien_viet_train.h5')"
      ],
      "metadata": {
        "id": "C-rRdyvkHSzL"
      },
      "execution_count": null,
      "outputs": []
    },
    {
      "cell_type": "code",
      "source": [
        "#load mô hình \n",
        "from keras.models import load_model\n",
        "model5=load_model('/content/drive/MyDrive/Train/Tien_viet_train.h5')"
      ],
      "metadata": {
        "id": "ocIYr_wCHeFu"
      },
      "execution_count": null,
      "outputs": []
    },
    {
      "cell_type": "code",
      "source": [
        "import matplotlib.pyplot as plt\n",
        "from keras.utils import load_img\n",
        "from keras.utils.image_utils import img_to_array\n",
        "import numpy as np\n",
        "vat = {1: '5k',2:'10k', 3:'20k', 4:'50k', 5:'100k', 6:'500k' }\n",
        "img = load_img(\"/content/drive/MyDrive/100k.jpg\",target_size=(30,40))\n",
        "plt.imshow(img)\n",
        "img = img_to_array(img)\n",
        "img=img.reshape(1,30,40,3)\n",
        "img = img.astype('float32')\n",
        "img =img/255\n",
        "result  = np.argmax(model.predict(img),axis=1)\n",
        "vat[result[0]]"
      ],
      "metadata": {
        "id": "u1YoCbf-35Py",
        "colab": {
          "base_uri": "https://localhost:8080/",
          "height": 467
        },
        "outputId": "53e7819f-5ccf-4adb-ca8c-fc3ac5dfa984"
      },
      "execution_count": null,
      "outputs": [
        {
          "output_type": "stream",
          "name": "stdout",
          "text": [
            "1/1 [==============================] - 0s 23ms/step\n"
          ]
        },
        {
          "output_type": "execute_result",
          "data": {
            "text/plain": [
              "'100k'"
            ],
            "application/vnd.google.colaboratory.intrinsic+json": {
              "type": "string"
            }
          },
          "metadata": {},
          "execution_count": 47
        },
        {
          "output_type": "display_data",
          "data": {
            "text/plain": [
              "<Figure size 640x480 with 1 Axes>"
            ],
            "image/png": "[encoded data removed]"
          },
          "metadata": {}
        }
      ]
    },
    {
      "cell_type": "code",
      "source": [],
      "metadata": {
        "id": "XNQw0Fjd3_uJ"
      },
      "execution_count": null,
      "outputs": []
    }
  ]
}