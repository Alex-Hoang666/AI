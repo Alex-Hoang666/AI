{
  "nbformat": 4,
  "nbformat_minor": 0,
  "metadata": {
    "colab": {
      "provenance": [],
      "mount_file_id": "1KgzqBjTlmLydioxnDh_0C6gAY3rY8T0T",
      "authorship_tag": "ABX9TyNqHbSWyjzJYF5D3WKuIT5b",
      "include_colab_link": true
    },
    "kernelspec": {
      "name": "python3",
      "display_name": "Python 3"
    },
    "language_info": {
      "name": "python"
    },
    "accelerator": "GPU",
    "gpuClass": "standard"
  },
  "cells": [
    {
      "cell_type": "markdown",
      "metadata": {
        "id": "view-in-github",
        "colab_type": "text"
      },
      "source": [
        "<a href=\"https://colab.research.google.com/github/Alex-Hoang666/AI/blob/main/Train_hinh.ipynb\" target=\"_parent\"><img src=\"https://colab.research.google.com/assets/colab-badge.svg\" alt=\"Open In Colab\"/></a>"
      ]
    },
    {
      "cell_type": "code",
      "execution_count": null,
      "metadata": {
        "id": "MnVyG8-epv15",
        "colab": {
          "base_uri": "https://localhost:8080/"
        },
        "outputId": "9086db8a-c278-446c-c914-8f9a423181d8"
      },
      "outputs": [
        {
          "output_type": "stream",
          "name": "stdout",
          "text": [
            "(240, 40, 50, 3) (240,)\n"
          ]
        }
      ],
      "source": [
        "#import thư viện\n",
        "from os import listdir\n",
        "from numpy import asarray\n",
        "from numpy import save\n",
        "from keras.utils import load_img, img_to_array\n",
        "#load folder datasets\n",
        "folder = '/content/drive/MyDrive/Train/Anh_nguoi/'\n",
        "#tiến hành tiền xử lý dữ liệu\n",
        "photos, labels = list(), list()\n",
        "for file in listdir(folder):\n",
        "  output = 0.0\n",
        "  if file.startswith('An '):\n",
        "    output = 1.0\n",
        "  if file.startswith('Kiet '):\n",
        "    output = 2.0\n",
        "  if file.startswith('Long '):\n",
        "    output = 3.0\n",
        "  if file.startswith('Minh '):\n",
        "    output = 4.0\n",
        "\n",
        "  img =load_img(folder+file,target_size=(40,50))\n",
        "  photo = img_to_array(img)\n",
        "  photos.append(photo)\n",
        "  labels.append(output)\n",
        "photos = asarray(photos)\n",
        "labels = asarray(labels)\n",
        "print(photos.shape,labels.shape)\n",
        "# lưu dữ liệu vừa xử lý\n",
        "save('selfie_photos_train.npy',photos)\n",
        "save('selfie_labels_train.npy',labels)"
      ]
    },
    {
      "cell_type": "code",
      "source": [
        "# kết nối với driver để load dữ liệu\n",
        "from google.colab import drive\n",
        "drive.mount('/content/drive')"
      ],
      "metadata": {
        "id": "qDdTc0gcEEt8",
        "colab": {
          "base_uri": "https://localhost:8080/"
        },
        "outputId": "748dbd12-b6ad-4632-e7d0-48c98c6385f1"
      },
      "execution_count": null,
      "outputs": [
        {
          "output_type": "stream",
          "name": "stdout",
          "text": [
            "Drive already mounted at /content/drive; to attempt to forcibly remount, call drive.mount(\"/content/drive\", force_remount=True).\n"
          ]
        }
      ]
    },
    {
      "cell_type": "code",
      "source": [
        "# tạo dữ liệu train\n",
        "import numpy as np\n",
        "x_train = np.load('/content/selfie_photos_train.npy')\n",
        "y_train = np.load('/content/selfie_labels_train.npy')\n",
        "x_train = x_train.astype('float32')/255\n",
        "from keras.utils import to_categorical\n",
        "y_train = to_categorical(y_train,10)"
      ],
      "metadata": {
        "id": "iwSzZoItEHH1"
      },
      "execution_count": null,
      "outputs": []
    },
    {
      "cell_type": "code",
      "source": [
        "# tiến hành tích chập\n",
        "from keras.models import Sequential\n",
        "from keras.layers import Dense,Dropout,Flatten,Conv2D,MaxPooling2D,Normalization,LeakyReLU\n",
        "from keras.optimizers import Adam\n",
        "\n",
        "#32 lan tich chap\n",
        "model = Sequential()\n",
        "model.add(Conv2D(32,kernel_size = (3,3),activation = 'relu',input_shape=(40,50,3),padding='Same'))\n",
        "model.add(MaxPooling2D((2,2),padding='same'))\n",
        "model.add(Dropout(0.25))\n",
        "\n",
        "#64 lan tich chap\n",
        "model.add(Conv2D(64,(3,3),activation ='relu',padding ='same'))\n",
        "model.add(MaxPooling2D((2,2),padding='same'))\n",
        "model.add(Dropout(0.25))\n",
        "\n",
        "#128 lan tich chap\n",
        "model.add(Conv2D(128,(3,3),activation ='relu',padding ='same'))\n",
        "model.add(MaxPooling2D((2,2),padding='same'))\n",
        "model.add(Dropout(0.25))\n",
        "\n",
        "#256 lan tich chap\n",
        "model.add(Conv2D(256,(3,3),activation ='relu',padding ='same'))\n",
        "model.add(MaxPooling2D((2,2),padding='same'))\n",
        "model.add(Dropout(0.25))\n",
        "\n",
        "model.add(Flatten())\n",
        "model.add(Dense(64,activation = 'relu'))\n",
        "model.add(Dropout(0.25))\n",
        "model.add(Dense(10,activation='softmax'))\n",
        "# train mô hình\n",
        "from keras.losses import categorical_crossentropy\n",
        "model.compile(loss = categorical_crossentropy,optimizer = Adam(),metrics=['accuracy'])\n",
        "model.summary()\n",
        "train = model.fit(x_train,y_train,batch_size=32,epochs = 50,verbose = 1)\n",
        "\n",
        "#lưu mô hình vừa train\n",
        "model.save('selfie_train.h5')\n"
      ],
      "metadata": {
        "id": "9knuaDmNELw5",
        "colab": {
          "base_uri": "https://localhost:8080/"
        },
        "outputId": "c1dee042-1f43-4dff-d914-0399d48bff3a"
      },
      "execution_count": null,
      "outputs": [
        {
          "output_type": "stream",
          "name": "stdout",
          "text": [
            "Model: \"sequential_1\"\n",
            "_________________________________________________________________\n",
            " Layer (type)                Output Shape              Param #   \n",
            "=================================================================\n",
            " conv2d_4 (Conv2D)           (None, 40, 50, 32)        896       \n",
            "                                                                 \n",
            " max_pooling2d_4 (MaxPooling  (None, 20, 25, 32)       0         \n",
            " 2D)                                                             \n",
            "                                                                 \n",
            " dropout_5 (Dropout)         (None, 20, 25, 32)        0         \n",
            "                                                                 \n",
            " conv2d_5 (Conv2D)           (None, 20, 25, 64)        18496     \n",
            "                                                                 \n",
            " max_pooling2d_5 (MaxPooling  (None, 10, 13, 64)       0         \n",
            " 2D)                                                             \n",
            "                                                                 \n",
            " dropout_6 (Dropout)         (None, 10, 13, 64)        0         \n",
            "                                                                 \n",
            " conv2d_6 (Conv2D)           (None, 10, 13, 128)       73856     \n",
            "                                                                 \n",
            " max_pooling2d_6 (MaxPooling  (None, 5, 7, 128)        0         \n",
            " 2D)                                                             \n",
            "                                                                 \n",
            " dropout_7 (Dropout)         (None, 5, 7, 128)         0         \n",
            "                                                                 \n",
            " conv2d_7 (Conv2D)           (None, 5, 7, 256)         295168    \n",
            "                                                                 \n",
            " max_pooling2d_7 (MaxPooling  (None, 3, 4, 256)        0         \n",
            " 2D)                                                             \n",
            "                                                                 \n",
            " dropout_8 (Dropout)         (None, 3, 4, 256)         0         \n",
            "                                                                 \n",
            " flatten_1 (Flatten)         (None, 3072)              0         \n",
            "                                                                 \n",
            " dense_2 (Dense)             (None, 64)                196672    \n",
            "                                                                 \n",
            " dropout_9 (Dropout)         (None, 64)                0         \n",
            "                                                                 \n",
            " dense_3 (Dense)             (None, 10)                650       \n",
            "                                                                 \n",
            "=================================================================\n",
            "Total params: 585,738\n",
            "Trainable params: 585,738\n",
            "Non-trainable params: 0\n",
            "_________________________________________________________________\n",
            "Epoch 1/50\n",
            "8/8 [==============================] - 12s 39ms/step - loss: 1.8011 - accuracy: 0.2417\n",
            "Epoch 2/50\n",
            "8/8 [==============================] - 0s 7ms/step - loss: 1.5062 - accuracy: 0.2750\n",
            "Epoch 3/50\n",
            "8/8 [==============================] - 0s 7ms/step - loss: 1.4107 - accuracy: 0.3417\n",
            "Epoch 4/50\n",
            "8/8 [==============================] - 0s 7ms/step - loss: 1.2695 - accuracy: 0.4583\n",
            "Epoch 5/50\n",
            "8/8 [==============================] - 0s 6ms/step - loss: 0.9569 - accuracy: 0.6000\n",
            "Epoch 6/50\n",
            "8/8 [==============================] - 0s 7ms/step - loss: 0.5929 - accuracy: 0.7625\n",
            "Epoch 7/50\n",
            "8/8 [==============================] - 0s 6ms/step - loss: 0.2558 - accuracy: 0.9083\n",
            "Epoch 8/50\n",
            "8/8 [==============================] - 0s 7ms/step - loss: 0.0950 - accuracy: 0.9667\n",
            "Epoch 9/50\n",
            "8/8 [==============================] - 0s 7ms/step - loss: 0.1108 - accuracy: 0.9625\n",
            "Epoch 10/50\n",
            "8/8 [==============================] - 0s 6ms/step - loss: 0.0427 - accuracy: 0.9875\n",
            "Epoch 11/50\n",
            "8/8 [==============================] - 0s 6ms/step - loss: 0.0389 - accuracy: 0.9833\n",
            "Epoch 12/50\n",
            "8/8 [==============================] - 0s 7ms/step - loss: 0.0132 - accuracy: 1.0000\n",
            "Epoch 13/50\n",
            "8/8 [==============================] - 0s 6ms/step - loss: 0.0083 - accuracy: 0.9958\n",
            "Epoch 14/50\n",
            "8/8 [==============================] - 0s 7ms/step - loss: 5.6375e-04 - accuracy: 1.0000\n",
            "Epoch 15/50\n",
            "8/8 [==============================] - 0s 7ms/step - loss: 0.0075 - accuracy: 0.9958\n",
            "Epoch 16/50\n",
            "8/8 [==============================] - 0s 7ms/step - loss: 0.0088 - accuracy: 1.0000\n",
            "Epoch 17/50\n",
            "8/8 [==============================] - 0s 7ms/step - loss: 0.0117 - accuracy: 0.9958\n",
            "Epoch 18/50\n",
            "8/8 [==============================] - 0s 7ms/step - loss: 0.0053 - accuracy: 1.0000\n",
            "Epoch 19/50\n",
            "8/8 [==============================] - 0s 7ms/step - loss: 0.0046 - accuracy: 1.0000\n",
            "Epoch 20/50\n",
            "8/8 [==============================] - 0s 6ms/step - loss: 0.0100 - accuracy: 0.9958\n",
            "Epoch 21/50\n",
            "8/8 [==============================] - 0s 6ms/step - loss: 0.0045 - accuracy: 1.0000\n",
            "Epoch 22/50\n",
            "8/8 [==============================] - 0s 6ms/step - loss: 0.0010 - accuracy: 1.0000\n",
            "Epoch 23/50\n",
            "8/8 [==============================] - 0s 6ms/step - loss: 0.0045 - accuracy: 1.0000\n",
            "Epoch 24/50\n",
            "8/8 [==============================] - 0s 6ms/step - loss: 0.0028 - accuracy: 1.0000\n",
            "Epoch 25/50\n",
            "8/8 [==============================] - 0s 7ms/step - loss: 0.0019 - accuracy: 1.0000\n",
            "Epoch 26/50\n",
            "8/8 [==============================] - 0s 6ms/step - loss: 0.0039 - accuracy: 0.9958\n",
            "Epoch 27/50\n",
            "8/8 [==============================] - 0s 7ms/step - loss: 0.0016 - accuracy: 1.0000\n",
            "Epoch 28/50\n",
            "8/8 [==============================] - 0s 7ms/step - loss: 0.0019 - accuracy: 1.0000\n",
            "Epoch 29/50\n",
            "8/8 [==============================] - 0s 7ms/step - loss: 5.1522e-04 - accuracy: 1.0000\n",
            "Epoch 30/50\n",
            "8/8 [==============================] - 0s 7ms/step - loss: 0.0056 - accuracy: 0.9958\n",
            "Epoch 31/50\n",
            "8/8 [==============================] - 0s 7ms/step - loss: 0.0074 - accuracy: 0.9958\n",
            "Epoch 32/50\n",
            "8/8 [==============================] - 0s 6ms/step - loss: 0.0044 - accuracy: 1.0000\n",
            "Epoch 33/50\n",
            "8/8 [==============================] - 0s 6ms/step - loss: 0.0012 - accuracy: 1.0000\n",
            "Epoch 34/50\n",
            "8/8 [==============================] - 0s 6ms/step - loss: 7.4005e-04 - accuracy: 1.0000\n",
            "Epoch 35/50\n",
            "8/8 [==============================] - 0s 6ms/step - loss: 5.8092e-04 - accuracy: 1.0000\n",
            "Epoch 36/50\n",
            "8/8 [==============================] - 0s 6ms/step - loss: 6.3292e-04 - accuracy: 1.0000\n",
            "Epoch 37/50\n",
            "8/8 [==============================] - 0s 7ms/step - loss: 0.0032 - accuracy: 0.9958\n",
            "Epoch 38/50\n",
            "8/8 [==============================] - 0s 6ms/step - loss: 0.0010 - accuracy: 1.0000\n",
            "Epoch 39/50\n",
            "8/8 [==============================] - 0s 7ms/step - loss: 0.0015 - accuracy: 1.0000\n",
            "Epoch 40/50\n",
            "8/8 [==============================] - 0s 9ms/step - loss: 0.0122 - accuracy: 0.9917\n",
            "Epoch 41/50\n",
            "8/8 [==============================] - 0s 6ms/step - loss: 0.0020 - accuracy: 1.0000\n",
            "Epoch 42/50\n",
            "8/8 [==============================] - 0s 7ms/step - loss: 0.0012 - accuracy: 1.0000\n",
            "Epoch 43/50\n",
            "8/8 [==============================] - 0s 7ms/step - loss: 0.0019 - accuracy: 1.0000\n",
            "Epoch 44/50\n",
            "8/8 [==============================] - 0s 7ms/step - loss: 7.2100e-04 - accuracy: 1.0000\n",
            "Epoch 45/50\n",
            "8/8 [==============================] - 0s 7ms/step - loss: 0.0016 - accuracy: 1.0000\n",
            "Epoch 46/50\n",
            "8/8 [==============================] - 0s 7ms/step - loss: 0.0025 - accuracy: 1.0000\n",
            "Epoch 47/50\n",
            "8/8 [==============================] - 0s 7ms/step - loss: 5.4474e-04 - accuracy: 1.0000\n",
            "Epoch 48/50\n",
            "8/8 [==============================] - 0s 6ms/step - loss: 0.0011 - accuracy: 1.0000\n",
            "Epoch 49/50\n",
            "8/8 [==============================] - 0s 6ms/step - loss: 0.0090 - accuracy: 0.9958\n",
            "Epoch 50/50\n",
            "8/8 [==============================] - 0s 6ms/step - loss: 0.0038 - accuracy: 1.0000\n"
          ]
        }
      ]
    },
    {
      "cell_type": "code",
      "source": [
        "from google.colab import drive\n",
        "drive.mount('/content/drive')"
      ],
      "metadata": {
        "colab": {
          "base_uri": "https://localhost:8080/"
        },
        "id": "Nv7UcLD6N28J",
        "outputId": "5fead5ae-81e8-4f9a-a601-d9203fc731de"
      },
      "execution_count": null,
      "outputs": [
        {
          "output_type": "stream",
          "name": "stdout",
          "text": [
            "Drive already mounted at /content/drive; to attempt to forcibly remount, call drive.mount(\"/content/drive\", force_remount=True).\n"
          ]
        }
      ]
    },
    {
      "cell_type": "code",
      "source": [
        "#load mô hình \n",
        "from keras.models import load_model\n",
        "model=load_model('/content/drive/MyDrive/Train/selfie_train.h5')"
      ],
      "metadata": {
        "id": "DqvtYWLVEOqY"
      },
      "execution_count": null,
      "outputs": []
    },
    {
      "cell_type": "code",
      "source": [
        "#load ảnh và cho AI tiến hành nhận diện\n",
        "import matplotlib.pyplot as plt\n",
        "from keras.utils import load_img\n",
        "from keras.utils.image_utils import img_to_array\n",
        "import numpy as np\n",
        "classes = {1: 'An',2:'Kiet', 3:'Long', 4:'Minh' }\n",
        "img = load_img(\"/content/drive/MyDrive/Train/An.jpg\",target_size=(30,40))\n",
        "plt.imshow(img)\n",
        "img = img_to_array(img)\n",
        "img=img.reshape(1,30,40,3)\n",
        "img = img.astype('float32')\n",
        "img =img/255\n",
        "result  = np.argmax(model.predict(img),axis=1)\n",
        "print(result)\n",
        "classes[result[0]]\n"
      ],
      "metadata": {
        "id": "StMQHCLcEQvB",
        "colab": {
          "base_uri": "https://localhost:8080/",
          "height": 485
        },
        "outputId": "7cb2d987-f3c1-495f-dfa7-9eafc0eb5485"
      },
      "execution_count": null,
      "outputs": [
        {
          "output_type": "stream",
          "name": "stdout",
          "text": [
            "1/1 [==============================] - 0s 28ms/step\n",
            "[1]\n"
          ]
        },
        {
          "output_type": "execute_result",
          "data": {
            "text/plain": [
              "'An'"
            ],
            "application/vnd.google.colaboratory.intrinsic+json": {
              "type": "string"
            }
          },
          "metadata": {},
          "execution_count": 15
        },
        {
          "output_type": "display_data",
          "data": {
            "text/plain": [
              "<Figure size 640x480 with 1 Axes>"
            ],
            "image/png": "[encoded data removed]"
          },
          "metadata": {}
        }
      ]
    },
    {
      "cell_type": "code",
      "source": [
        "#load ảnh và cho AI tiến hành nhận diện\n",
        "import matplotlib.pyplot as plt\n",
        "from keras.utils import load_img\n",
        "from keras.utils.image_utils import img_to_array\n",
        "import numpy as np\n",
        "classes = {1: 'An',2:'Kiet', 3:'Long', 4:'Minh' }\n",
        "img = load_img(\"/content/drive/MyDrive/Train/An.jpg\",target_size=(30,40))\n",
        "plt.imshow(img)\n",
        "img = img_to_array(img)\n",
        "img=img.reshape(1,30,40,3)\n",
        "img = img.astype('float32')\n",
        "img =img/255\n",
        "res = model.predict(img)\n",
        "print(\"predict: \",classes[np.argmax(res[0])],(res[0]))"
      ],
      "metadata": {
        "colab": {
          "base_uri": "https://localhost:8080/",
          "height": 485
        },
        "id": "m5IOkSUwcCa5",
        "outputId": "f7d77bab-6bde-4ec9-91b9-9ba056906760"
      },
      "execution_count": null,
      "outputs": [
        {
          "output_type": "stream",
          "name": "stdout",
          "text": [
            "1/1 [==============================] - 0s 21ms/step\n",
            "predict:  An [4.1417891e-07 5.8995569e-01 1.9302312e-01 1.0457672e-05 4.5240457e-05\n",
            " 2.9446306e-03 2.5710420e-04 4.4578627e-02 1.6918422e-01 4.8218646e-07]\n"
          ]
        },
        {
          "output_type": "display_data",
          "data": {
            "text/plain": [
              "<Figure size 640x480 with 1 Axes>"
            ],
            "image/png": "[encoded data removed]"
          },
          "metadata": {}
        }
      ]
    },
    {
      "cell_type": "code",
      "source": [
        "# Hàm lấy hình từ camera và cập nhật lên giao diện\n",
        "def update_image():\n",
        "    # Đường dẫn camera, 0 là camera mặc định\n",
        "    cap = cv2.VideoCapture(0)\n",
        "\n",
        "    # Lấy kích thước khung hình\n",
        "    width = cap.get(cv2.CAP_PROP_FRAME_WIDTH)\n",
        "    height = cap.get(cv2.CAP_PROP_FRAME_HEIGHT)\n",
        "\n",
        "    while camera_active:\n",
        "        # Đọc khung hình từ camera\n",
        "        ret, frame = cap.read()\n",
        "\n",
        "        if ret:\n",
        "            # Chuyển đổi khung hình từ BGR sang RGB\n",
        "            rgb_frame = cv2.cvtColor(frame, cv2.COLOR_BGR2RGB)\n",
        "\n",
        "            # Chuyển đổi khung hình thành đối tượng Image\n",
        "            image = Image.fromarray(rgb_frame)\n",
        "\n",
        "            # Thay đổi kích thước ảnh nếu cần\n",
        "            image = image.resize((400, 400))\n",
        "\n",
        "            # Chuyển đổi ảnh thành đối tượng PhotoImage\n",
        "            photo = ImageTk.PhotoImage(image)\n",
        "\n",
        "            # Cập nhật ảnh trên giao diện\n",
        "            window.image_label.config(image=photo)\n",
        "            window.image_label.image = photo\n",
        "\n",
        "    # Giải phóng camera\n",
        "    cap.release()"
      ],
      "metadata": {
        "id": "z4pY2zhhm_cv"
      },
      "execution_count": null,
      "outputs": []
    },
    {
      "cell_type": "code",
      "source": [
        "# Nhận dạng ảnh\n",
        "        image = cv2.cvtColor(frame, cv2.COLOR_BGR2RGB)\n",
        "        image = cv2.resize(image, (30, 40))\n",
        "        from keras.utils.image_utils import img_to_array\n",
        "        image = img_to_array(image)\n",
        "        Ai = {1: 'An', 2: 'Kiet', 3: 'Long', 4: 'Minh'}\n",
        "        image = image.reshape((1, 30, 40, 3))\n",
        "        image = image.astype('float32')\n",
        "        image = image / 255.0\n",
        "        result = np.argmax(model.predict(image), axis=1)\n",
        "        print(result)\n",
        "        try:\n",
        "            predicted_label = Ai[result[0]]\n",
        "            print(predicted_label)\n",
        "            if predicted_label == 'An':\n",
        "                result_label_text = \"Kết quả: Đăng nhập thành công!\"\n",
        "                create_welcome_window(username)  # Tạo cửa sổ chào mừng với tên người đăng nhập\n",
        "            else:\n",
        "                result_label_text = \"Kết quả: Đăng nhập không thành công!\"\n",
        "        except KeyError:\n",
        "            result_label_text = \"Kết quả: Đăng nhập không thành công!\"\n",
        "\n",
        "        window.result_label.config(text=result_label_text)"
      ],
      "metadata": {
        "id": "i38SBh5TnRX2"
      },
      "execution_count": null,
      "outputs": []
    }
  ]
}