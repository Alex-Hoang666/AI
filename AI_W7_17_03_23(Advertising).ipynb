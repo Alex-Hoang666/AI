{
  "nbformat": 4,
  "nbformat_minor": 0,
  "metadata": {
    "colab": {
      "provenance": [],
      "authorship_tag": "ABX9TyMbviT0TlRmWUBI1QtCSvAE",
      "include_colab_link": true
    },
    "kernelspec": {
      "name": "python3",
      "display_name": "Python 3"
    },
    "language_info": {
      "name": "python"
    }
  },
  "cells": [
    {
      "cell_type": "markdown",
      "metadata": {
        "id": "view-in-github",
        "colab_type": "text"
      },
      "source": [
        "<a href=\"https://colab.research.google.com/github/Alex-Hoang666/AI/blob/main/AI_W7_17_03_23(Advertising).ipynb\" target=\"_parent\"><img src=\"https://colab.research.google.com/assets/colab-badge.svg\" alt=\"Open In Colab\"/></a>"
      ]
    },
    {
      "cell_type": "code",
      "execution_count": null,
      "metadata": {
        "id": "R5RMe3YWnfBk"
      },
      "outputs": [],
      "source": [
        "import pandas as pd\n",
        "url='/content/Advertising.csv'\n",
        "data=pd.read_csv(url)\n",
        "data.head()\n",
        "import matplotlib.pyplot as plt\n",
        "data.hist()\n",
        "plt.show()"
      ]
    },
    {
      "cell_type": "code",
      "source": [
        "correlations=data.corr()\n",
        "print(correlations)\n",
        "import seaborn as sns\n",
        "sns.heatmap(correlations,annot=True)\n",
        "sns.pairplot(data)"
      ],
      "metadata": {
        "id": "aiMoLzKlodDs"
      },
      "execution_count": null,
      "outputs": []
    },
    {
      "cell_type": "code",
      "source": [
        "from sklearn import linear_model\n",
        "model=linear_model.LinearRegression()\n",
        "model.fit(X=pd.DataFrame(data['TV']), y=data['sales'])\n",
        "print('he so intercept',model.intercept_)\n",
        "print('he so coef',model.coef_)\n",
        "model.score(X=pd.DataFrame(data['TV']),y=data['sales'])\n",
        "y_pred=model.predict(X=pd.DataFrame(data['TV']))\n",
        "data.plot(kind='scatter',x='TV',y='sales',figsize=(9,9),color='black')\n",
        "plt.plot(data['TV'],y_pred,color='blue')"
      ],
      "metadata": {
        "id": "hCmPGWaBoeLd"
      },
      "execution_count": null,
      "outputs": []
    },
    {
      "cell_type": "code",
      "source": [
        "#Bậc 2\n",
        "model=linear_model.LinearRegression()\n",
        "X=pd.DataFrame([data['TV'] ,data['TV']**2]).T  #chuyển hàng thành cột\n",
        "model.fit(X,y=data['sales'])\n",
        "print('Intercept của mô hình:',model.intercept_)\n",
        "print('coef cua mo hinh:',model.coef_)\n",
        "print('Độ chính xác:',model.score(X,y=data['sales']))\n",
        "import numpy as np\n",
        "range=np.arange(0,200000,100)\n",
        "X_range=pd.DataFrame([range,range**2]).T\n",
        "y_pred=model.predict(X=X_range)\n",
        "data.plot(kind='scatter',x='TV',y='sales',figsize=(9,9),color='black',xlim=(20000))\n",
        "plt.plot(range,y_pred,color='blue')"
      ],
      "metadata": {
        "id": "7ZSVkqraolXc"
      },
      "execution_count": null,
      "outputs": []
    },
    {
      "cell_type": "code",
      "source": [
        "#2 biến\n",
        "model=linear_model.LinearRegression()\n",
        "model.fit(X=data.loc[:,['TV','radio']],y=data['sales'])\n",
        "print('Intercept là:',model.intercept_)\n",
        "print('Coeffient là:',model.coef_)\n",
        "print('Độ chính xác:',model.score(X=data.loc[:,['TV','radio']],y=data['sales']))"
      ],
      "metadata": {
        "id": "WxivMTocoo90"
      },
      "execution_count": null,
      "outputs": []
    },
    {
      "cell_type": "code",
      "source": [
        "#3 biến\n",
        "model=linear_model.LinearRegression()\n",
        "model.fit(X=data.loc[:,['TV','radio','newspaper']],y=data['sales'])\n",
        "print('Intercept là:',model.intercept_)\n",
        "print('Coeffient là:',model.coef_)\n",
        "print('Độ chính xác:',model.score(X=data.loc[:,['TV','radio','newspaper']],y=data['sales']))"
      ],
      "metadata": {
        "id": "ARt0YJCNoq38"
      },
      "execution_count": null,
      "outputs": []
    }
  ]
}