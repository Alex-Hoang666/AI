{
  "nbformat": 4,
  "nbformat_minor": 0,
  "metadata": {
    "colab": {
      "provenance": [],
      "authorship_tag": "ABX9TyN6eKasCcfnFM8P2SNNQHXW",
      "include_colab_link": true
    },
    "kernelspec": {
      "name": "python3",
      "display_name": "Python 3"
    },
    "language_info": {
      "name": "python"
    }
  },
  "cells": [
    {
      "cell_type": "markdown",
      "metadata": {
        "id": "view-in-github",
        "colab_type": "text"
      },
      "source": [
        "<a href=\"https://colab.research.google.com/github/Alex-Hoang666/AI/blob/main/AI_W7_17_03_23(EX_50_Startups).ipynb\" target=\"_parent\"><img src=\"https://colab.research.google.com/assets/colab-badge.svg\" alt=\"Open In Colab\"/></a>"
      ]
    },
    {
      "cell_type": "code",
      "execution_count": null,
      "metadata": {
        "id": "HWpY8KdgZnH1"
      },
      "outputs": [],
      "source": [
        "import pandas as pd\n",
        "url='/50_Startups.csv'\n",
        "data=pd.read_csv(url)\n",
        "data.head()\n",
        "import matplotlib.pyplot as plt\n",
        "data.hist()\n",
        "plt.show()"
      ]
    },
    {
      "cell_type": "code",
      "source": [
        "correlations=data.corr()\n",
        "print(correlations)\n",
        "import seaborn as sns\n",
        "sns.heatmap(correlations,annot=True)\n",
        "sns.pairplot(data)"
      ],
      "metadata": {
        "id": "TvMd8FK8bCzT"
      },
      "execution_count": null,
      "outputs": []
    },
    {
      "cell_type": "code",
      "source": [
        "from sklearn import linear_model\n",
        "model=linear_model.LinearRegression()\n",
        "model.fit(X=pd.DataFrame(data['R&D Spend']), y=data['Profit'])\n",
        "print('he so intercept',model.intercept_)\n",
        "print('he so coef',model.coef_)\n",
        "model.score(X=pd.DataFrame(data['R&D Spend']),y=data['Profit'])\n",
        "y_pred=model.predict(X=pd.DataFrame(data['R&D Spend']))\n",
        "data.plot(kind='scatter',x='R&D Spend',y='Profit',figsize=(9,9),color='black')\n",
        "plt.plot(data['R&D Spend'],y_pred,color='blue')"
      ],
      "metadata": {
        "id": "7N6vVFxmbSde"
      },
      "execution_count": null,
      "outputs": []
    },
    {
      "cell_type": "code",
      "source": [
        "#Bậc 2\n",
        "model=linear_model.LinearRegression()\n",
        "X=pd.DataFrame([data['R&D Spend'] ,data['R&D Spend']**2]).T  #chuyển hàng thành cột\n",
        "model.fit(X,y=data['Profit'])\n",
        "print('Intercept của mô hình:',model.intercept_)\n",
        "print('coef cua mo hinh:',model.coef_)\n",
        "print('Độ chính xác:',model.score(X,y=data['Profit']))\n",
        "import numpy as np\n",
        "range=np.arange(0,200000,100)\n",
        "X_range=pd.DataFrame([range,range**2]).T\n",
        "y_pred=model.predict(X=X_range)\n",
        "data.plot(kind='scatter',x='R&D Spend',y='Profit',figsize=(9,9),color='black',xlim=(20000))\n",
        "plt.plot(range,y_pred,color='blue')"
      ],
      "metadata": {
        "id": "BlQmkcHUcuze"
      },
      "execution_count": null,
      "outputs": []
    },
    {
      "cell_type": "code",
      "source": [
        "#Bậc 3\n",
        "model=linear_model.LinearRegression()\n",
        "X=pd.DataFrame([data['R&D Spend'] ,data['R&D Spend']**2,data['R&D Spend']**3]).T  #chuyển hàng thành cột\n",
        "model.fit(X,y=data['Profit'])\n",
        "print('Intercept của mô hình:',model.intercept_)\n",
        "print('coef cua mo hinh:',model.coef_)\n",
        "print('Độ chính xác:',model.score(X,y=data['Profit']))\n",
        "import numpy as np\n",
        "range=np.arange(0,200000,100)\n",
        "X_range=pd.DataFrame([range,range**2,range**3]).T\n",
        "y_pred=model.predict(X=X_range)\n",
        "data.plot(kind='scatter',x='R&D Spend',y='Profit',figsize=(9,9),color='black',xlim=(20000))\n",
        "plt.plot(range,y_pred,color='blue')"
      ],
      "metadata": {
        "colab": {
          "base_uri": "https://localhost:8080/",
          "height": 696
        },
        "id": "ciuGyPh9eaP_",
        "outputId": "fbe3ad8a-4fa1-4043-ac29-0db8a4fced88"
      },
      "execution_count": 54,
      "outputs": [
        {
          "output_type": "stream",
          "name": "stdout",
          "text": [
            "Intercept của mô hình: 43108.76756818297\n",
            "coef cua mo hinh: [ 1.40072682e+00 -8.82403324e-06  3.64774030e-11]\n",
            "Độ chính xác: 0.9540709421464032\n"
          ]
        },
        {
          "output_type": "stream",
          "name": "stderr",
          "text": [
            "/usr/local/lib/python3.9/dist-packages/sklearn/base.py:439: UserWarning: X does not have valid feature names, but LinearRegression was fitted with feature names\n",
            "  warnings.warn(\n",
            "/usr/local/lib/python3.9/dist-packages/pandas/plotting/_matplotlib/core.py:1114: UserWarning: No data for colormapping provided via 'c'. Parameters 'cmap' will be ignored\n",
            "  scatter = ax.scatter(\n"
          ]
        },
        {
          "output_type": "execute_result",
          "data": {
            "text/plain": [
              "[<matplotlib.lines.Line2D at 0x7fb625186ee0>]"
            ]
          },
          "metadata": {},
          "execution_count": 54
        },
        {
          "output_type": "display_data",
          "data": {
            "text/plain": [
              "<Figure size 648x648 with 1 Axes>"
            ],
            "image/png": "[encoded data removed]"
          },
          "metadata": {
            "needs_background": "light"
          }
        }
      ]
    },
    {
      "cell_type": "code",
      "source": [
        "#Bậc 4\n",
        "model=linear_model.LinearRegression()\n",
        "X=pd.DataFrame([data['R&D Spend'] ,data['R&D Spend']**2,data['R&D Spend']**3,data['R&D Spend']**4]).T  #chuyển hàng thành cột\n",
        "model.fit(X,y=data['Profit'])\n",
        "print('Intercept của mô hình:',model.intercept_)\n",
        "print('coef cua mo hinh:',model.coef_)\n",
        "print('Độ chính xác:',model.score(X,y=data['Profit']))\n",
        "import numpy as np\n",
        "range=np.arange(0,200000,100)\n",
        "X_range=pd.DataFrame([range,range**2,range**3,range**4]).T\n",
        "y_pred=model.predict(X=X_range)\n",
        "data.plot(kind='scatter',x='R&D Spend',y='Profit',figsize=(9,9),color='black',xlim=(20000))\n",
        "plt.plot(range,y_pred,color='blue')"
      ],
      "metadata": {
        "id": "YYN2Ei2FiYL4"
      },
      "execution_count": null,
      "outputs": []
    },
    {
      "cell_type": "code",
      "source": [
        "#Bậc 5\n",
        "model=linear_model.LinearRegression()\n",
        "X=pd.DataFrame([data['R&D Spend'] ,data['R&D Spend']**2,data['R&D Spend']**3,data['R&D Spend']**4,data['R&D Spend']**5]).T  #chuyển hàng thành cột\n",
        "model.fit(X,y=data['Profit'])\n",
        "print('Intercept của mô hình:',model.intercept_)\n",
        "print('coef cua mo hinh:',model.coef_)\n",
        "print('Độ chính xác:',model.score(X,y=data['Profit']))\n",
        "import numpy as np\n",
        "range=np.arange(0,200000,100)\n",
        "X_range=pd.DataFrame([range,range**2,range**3,range**4,range**5]).T\n",
        "y_pred=model.predict(X=X_range)\n",
        "data.plot(kind='scatter',x='R&D Spend',y='Profit',figsize=(9,9),color='black',xlim=(20000))\n",
        "plt.plot(range,y_pred,color='blue')"
      ],
      "metadata": {
        "id": "6bOv-vQAkHMe"
      },
      "execution_count": null,
      "outputs": []
    },
    {
      "cell_type": "code",
      "source": [
        "#Bậc 6\n",
        "model=linear_model.LinearRegression()\n",
        "X=pd.DataFrame([data['R&D Spend'] ,data['R&D Spend']**2,data['R&D Spend']**3,data['R&D Spend']**4,data['R&D Spend']**5,data['R&D Spend']**6]).T  #chuyển hàng thành cột\n",
        "model.fit(X,y=data['Profit'])\n",
        "print('Intercept của mô hình:',model.intercept_)\n",
        "print('coef cua mo hinh:',model.coef_)\n",
        "print('Độ chính xác:',model.score(X,y=data['Profit']))\n",
        "import numpy as np\n",
        "range=np.arange(0,200000,100)\n",
        "X_range=pd.DataFrame([range,range**2,range**3,range**4,range**5,range**6]).T\n",
        "y_pred=model.predict(X=X_range)\n",
        "data.plot(kind='scatter',x='R&D Spend',y='Profit',figsize=(9,9),color='black',xlim=(20000))\n",
        "plt.plot(range,y_pred,color='blue')"
      ],
      "metadata": {
        "id": "r5FM0Hw8kO6t"
      },
      "execution_count": null,
      "outputs": []
    },
    {
      "cell_type": "code",
      "source": [
        "#Bậc 7\n",
        "model=linear_model.LinearRegression()\n",
        "X=pd.DataFrame([data['R&D Spend'] ,data['R&D Spend']**2,data['R&D Spend']**3,data['R&D Spend']**4,data['R&D Spend']**5,\n",
        "                data['R&D Spend']**6,data['R&D Spend']**7]).T  #chuyển hàng thành cột\n",
        "model.fit(X,y=data['Profit'])\n",
        "print('Intercept của mô hình:',model.intercept_)\n",
        "print('coef cua mo hinh:',model.coef_)\n",
        "print('Độ chính xác:',model.score(X,y=data['Profit']))\n",
        "import numpy as np\n",
        "range=np.arange(0,200000,100)\n",
        "X_range=pd.DataFrame([range,range**2,range**3,range**4,range**5,range**6,range**7]).T\n",
        "y_pred=model.predict(X=X_range)\n",
        "data.plot(kind='scatter',x='R&D Spend',y='Profit',figsize=(9,9),color='black',xlim=(20000))\n",
        "plt.plot(range,y_pred,color='blue')"
      ],
      "metadata": {
        "id": "DNVB45HhkUpm"
      },
      "execution_count": null,
      "outputs": []
    },
    {
      "cell_type": "code",
      "source": [
        "#Bậc 8\n",
        "model=linear_model.LinearRegression()\n",
        "X=pd.DataFrame([data['R&D Spend'] ,data['R&D Spend']**2,data['R&D Spend']**3,data['R&D Spend']**4,data['R&D Spend']**5,\n",
        "                data['R&D Spend']**6,data['R&D Spend']**7,data['R&D Spend']**8]).T  #chuyển hàng thành cột\n",
        "model.fit(X,y=data['Profit'])\n",
        "print('Intercept của mô hình:',model.intercept_)\n",
        "print('coef cua mo hinh:',model.coef_)\n",
        "print('Độ chính xác:',model.score(X,y=data['Profit']))\n",
        "import numpy as np\n",
        "range=np.arange(0,200000,100)\n",
        "X_range=pd.DataFrame([range,range**2,range**3,range**4,range**5,range**6,range**7,range**8]).T\n",
        "y_pred=model.predict(X=X_range)\n",
        "data.plot(kind='scatter',x='R&D Spend',y='Profit',figsize=(9,9),color='black',xlim=(20000))\n",
        "plt.plot(range,y_pred,color='blue')"
      ],
      "metadata": {
        "id": "4rnq2bGUkeqO"
      },
      "execution_count": null,
      "outputs": []
    },
    {
      "cell_type": "code",
      "source": [
        "#Bậc 9\n",
        "model=linear_model.LinearRegression()\n",
        "X=pd.DataFrame([data['R&D Spend'] ,data['R&D Spend']**2,data['R&D Spend']**3,data['R&D Spend']**4,data['R&D Spend']**5,\n",
        "                data['R&D Spend']**6,data['R&D Spend']**7,data['R&D Spend']**8,data['R&D Spend']**9]).T  #chuyển hàng thành cột\n",
        "model.fit(X,y=data['Profit'])\n",
        "print('Intercept của mô hình:',model.intercept_)\n",
        "print('coef cua mo hinh:',model.coef_)\n",
        "print('Độ chính xác:',model.score(X,y=data['Profit']))\n",
        "import numpy as np\n",
        "range=np.arange(0,200000,100)\n",
        "X_range=pd.DataFrame([range,range**2,range**3,range**4,range**5,range**6,range**7,range**8,range**9]).T\n",
        "y_pred=model.predict(X=X_range)\n",
        "data.plot(kind='scatter',x='R&D Spend',y='Profit',figsize=(9,9),color='black',xlim=(20000))\n",
        "plt.plot(range,y_pred,color='blue')"
      ],
      "metadata": {
        "id": "qrMNOIgZkov-"
      },
      "execution_count": null,
      "outputs": []
    },
    {
      "cell_type": "code",
      "source": [
        "#bậc 10\n",
        "model=linear_model.LinearRegression()\n",
        "X=pd.DataFrame([data['R&D Spend'] ,data['R&D Spend']**2,data['R&D Spend']**3,data['R&D Spend']**4,data['R&D Spend']**5,\n",
        "              data['R&D Spend']**6,data['R&D Spend']**7,data['R&D Spend']**8,data['R&D Spend']**9,data['R&D Spend']**10]).T  #chuyển hàng thành cột\n",
        "model.fit(X,y=data['Profit'])\n",
        "print('Intercept của mô hình:',model.intercept_)\n",
        "print('coef cua mo hinh:',model.coef_)\n",
        "print('Độ chính xác:',model.score(X,y=data['Profit']))\n",
        "import numpy as np\n",
        "range=np.arange(0,200000,100)\n",
        "X_range=pd.DataFrame([range,range**2,range**3,range**4,range**5,range**6,range**7,range**8,range**9,range**10]).T\n",
        "y_pred=model.predict(X=X_range)\n",
        "data.plot(kind='scatter',x='R&D Spend',y='Profit',figsize=(9,9),color='black')\n",
        "plt.plot(range,y_pred,color='blue')"
      ],
      "metadata": {
        "id": "s_oQ_6JFfHge"
      },
      "execution_count": null,
      "outputs": []
    },
    {
      "cell_type": "code",
      "source": [
        "#2 biến\n",
        "model=linear_model.LinearRegression()\n",
        "model.fit(X=data.loc[:,['R&D Spend','Administration']],y=data['Profit'])\n",
        "print('Intercept là:',model.intercept_)\n",
        "print('Coeffient là:',model.coef_)\n",
        "print('Độ chính xác:',model.score(X=data.loc[:,['R&D Spend','Administration']],y=data['Profit']))"
      ],
      "metadata": {
        "id": "tyK-kmfJlmcm"
      },
      "execution_count": null,
      "outputs": []
    },
    {
      "cell_type": "code",
      "source": [
        "#3 biến\n",
        "model=linear_model.LinearRegression()\n",
        "model.fit(X=data.loc[:,['R&D Spend','Administration','Marketing Spend']],y=data['Profit'])\n",
        "print('Intercept là:',model.intercept_)\n",
        "print('Coeffient là:',model.coef_)\n",
        "print('Độ chính xác:',model.score(X=data.loc[:,['R&D Spend','Administration','Marketing Spend']],y=data['Profit']))"
      ],
      "metadata": {
        "colab": {
          "base_uri": "https://localhost:8080/"
        },
        "id": "V9v9eMSQlrBu",
        "outputId": "27f49409-16ed-4672-cf43-bd05dbe02b79"
      },
      "execution_count": 64,
      "outputs": [
        {
          "output_type": "stream",
          "name": "stdout",
          "text": [
            "Intercept là: 50122.19298986524\n",
            "Coeffient là: [ 0.80571505 -0.02681597  0.02722806]\n",
            "Độ chính xác: 0.9507459940683246\n"
          ]
        }
      ]
    }
  ]
}