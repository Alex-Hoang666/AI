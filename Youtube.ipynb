{
  "nbformat": 4,
  "nbformat_minor": 0,
  "metadata": {
    "colab": {
      "provenance": [],
      "authorship_tag": "ABX9TyMjh7y8ssswNlDEBFuD9YjB",
      "include_colab_link": true
    },
    "kernelspec": {
      "name": "python3",
      "display_name": "Python 3"
    },
    "language_info": {
      "name": "python"
    }
  },
  "cells": [
    {
      "cell_type": "markdown",
      "metadata": {
        "id": "view-in-github",
        "colab_type": "text"
      },
      "source": [
        "<a href=\"https://colab.research.google.com/github/Alex-Hoang666/AI/blob/main/Youtube.ipynb\" target=\"_parent\"><img src=\"https://colab.research.google.com/assets/colab-badge.svg\" alt=\"Open In Colab\"/></a>"
      ]
    },
    {
      "cell_type": "code",
      "source": [
        "pip install youtube_search"
      ],
      "metadata": {
        "colab": {
          "base_uri": "https://localhost:8080/"
        },
        "id": "Y4GuTCW465qB",
        "outputId": "a9222257-7655-49cd-b1be-e61ec6f432d3"
      },
      "execution_count": null,
      "outputs": [
        {
          "output_type": "stream",
          "name": "stdout",
          "text": [
            "Looking in indexes: https://pypi.org/simple, https://us-python.pkg.dev/colab-wheels/public/simple/\n",
            "Collecting youtube_search\n",
            "  Downloading youtube_search-2.1.2-py3-none-any.whl (3.4 kB)\n",
            "Requirement already satisfied: requests in /usr/local/lib/python3.9/dist-packages (from youtube_search) (2.27.1)\n",
            "Requirement already satisfied: charset-normalizer~=2.0.0 in /usr/local/lib/python3.9/dist-packages (from requests->youtube_search) (2.0.12)\n",
            "Requirement already satisfied: idna<4,>=2.5 in /usr/local/lib/python3.9/dist-packages (from requests->youtube_search) (3.4)\n",
            "Requirement already satisfied: certifi>=2017.4.17 in /usr/local/lib/python3.9/dist-packages (from requests->youtube_search) (2022.12.7)\n",
            "Requirement already satisfied: urllib3<1.27,>=1.21.1 in /usr/local/lib/python3.9/dist-packages (from requests->youtube_search) (1.26.15)\n",
            "Installing collected packages: youtube_search\n",
            "Successfully installed youtube_search-2.1.2\n"
          ]
        }
      ]
    },
    {
      "cell_type": "code",
      "execution_count": null,
      "metadata": {
        "colab": {
          "base_uri": "https://localhost:8080/"
        },
        "id": "6xbNc30d5INe",
        "outputId": "542b0f72-6e2c-4c1c-d3c2-6624fc4037a4"
      },
      "outputs": [
        {
          "output_type": "stream",
          "name": "stdout",
          "text": [
            "bóinhân quả\n",
            "[{'id': 'S7Zb_n7N47E', 'thumbnails': ['https://i.ytimg.com/vi/S7Zb_n7N47E/hq720.jpg?sqp=-oaymwEjCOgCEMoBSFryq4qpAxUIARUAAAAAGAElAADIQj0AgKJDeAE=&rs=AOn4CLCYm58qn2PWrjWDd1KFfNTdoIGbMg', 'https://i.ytimg.com/vi/S7Zb_n7N47E/hq720.jpg?sqp=-oaymwEXCNAFEJQDSFryq4qpAwkIARUAAIhCGAE=&rs=AOn4CLBrj39S6M8ebDq0XsgpjZ0kArJGKQ'], 'title': 'Bài giảng hay về NHÂN QUẢ - Thầy Thích Pháp Hòa', 'long_desc': None, 'channel': 'Pháp Thoại Thích Pháp Hòa', 'duration': '2:47:55', 'views': '468,474 views', 'publish_time': '2 months ago', 'url_suffix': '/watch?v=S7Zb_n7N47E&pp=ygULbmjDom4gcXXhuqM%3D'}, {'id': 'nkOitwmmyG4', 'thumbnails': ['https://i.ytimg.com/vi/nkOitwmmyG4/hq720.jpg?sqp=-oaymwEjCOgCEMoBSFryq4qpAxUIARUAAAAAGAElAADIQj0AgKJDeAE=&rs=AOn4CLB39J7t-A-aHj0g_VEcc9FC-LsUrg', 'https://i.ytimg.com/vi/nkOitwmmyG4/hq720.jpg?sqp=-oaymwEXCNAFEJQDSFryq4qpAwkIARUAAIhCGAE=&rs=AOn4CLAtwiScFTXd5mapy8AY49bktUhMSA'], 'title': 'Tiểu Thuyết [Cực Hay] | NHÂN QUẢ | Tiểu Thuyết Hay Làm Đến Mê Mẩn Lòng Người', 'long_desc': None, 'channel': 'Truyện Ma Tắt Đèn ', 'duration': '1:30:14', 'views': '1,073,199 views', 'publish_time': '7 months ago', 'url_suffix': '/watch?v=nkOitwmmyG4&pp=ygULbmjDom4gcXXhuqM%3D'}, {'id': 'u0DtVa-N27s', 'thumbnails': ['https://i.ytimg.com/vi/u0DtVa-N27s/hq720.jpg?sqp=-oaymwEjCOgCEMoBSFryq4qpAxUIARUAAAAAGAElAADIQj0AgKJDeAE=&rs=AOn4CLCV5km2MJ6EWegfSLVNKCrJ9Yr0oA', 'https://i.ytimg.com/vi/u0DtVa-N27s/hq720.jpg?sqp=-oaymwEXCNAFEJQDSFryq4qpAwkIARUAAIhCGAE=&rs=AOn4CLDZayxPIop_78nQ1KkbBw-JdTYUuQ'], 'title': 'Tiểu thuyết hiện thực việt nam: \" NHÂN QUẢ \" - Full Truyện Tâm Sự Thầm Kín Đặc Sắc #ThuHue Kể 2023', 'long_desc': None, 'channel': 'Tiểu Thuyết Radio', 'duration': '1:48:11', 'views': '87,139 views', 'publish_time': '6 days ago', 'url_suffix': '/watch?v=u0DtVa-N27s&pp=ygULbmjDom4gcXXhuqM%3D'}, {'id': '_pt0e6YmLP0', 'thumbnails': ['https://i.ytimg.com/vi/_pt0e6YmLP0/hq720.jpg?sqp=-oaymwEjCOgCEMoBSFryq4qpAxUIARUAAAAAGAElAADIQj0AgKJDeAE=&rs=AOn4CLCVCmY801cWEQYrujeLfGgZ_I9ASg', 'https://i.ytimg.com/vi/_pt0e6YmLP0/hq720.jpg?sqp=-oaymwEXCNAFEJQDSFryq4qpAwkIARUAAIhCGAE=&rs=AOn4CLCSw81XXY-BO3RlsPV2T6pTc6URrA'], 'title': 'Nhân Quả Nghiệp Báo, Những Câu Chuyện Hay Nhất Suốt 30 Năm Qua, Đừng Bỏ Lỡ | Phật Giáo Nhiệm Màu', 'long_desc': None, 'channel': 'Phật Giáo Nhiệm Màu', 'duration': '1:22:39', 'views': '347,790 views', 'publish_time': '2 months ago', 'url_suffix': '/watch?v=_pt0e6YmLP0&pp=ygULbmjDom4gcXXhuqM%3D'}, {'id': 'AqBgZF6rlWo', 'thumbnails': ['https://i.ytimg.com/vi/AqBgZF6rlWo/hq720.jpg?sqp=-oaymwEjCOgCEMoBSFryq4qpAxUIARUAAAAAGAElAADIQj0AgKJDeAE=&rs=AOn4CLBRsC0laep7s98WvHM3iXQT7lBY3Q', 'https://i.ytimg.com/vi/AqBgZF6rlWo/hq720.jpg?sqp=-oaymwEXCNAFEJQDSFryq4qpAwkIARUAAIhCGAE=&rs=AOn4CLB7PH1-T7munFf8mm8bpxhDDfWRNA'], 'title': 'Chuyện Nhân Quả Báo Ứng, QUẢ BÁO GI.ẾT HEO Rợn Người Ở TRÀ VINH Khiến Hàng Triệu Người Rơi Nước Mắt', 'long_desc': None, 'channel': 'Nhân Quả Báo Ứng Không Sai 1 Ly', 'duration': '59:00', 'views': '642,304 views', 'publish_time': '1 year ago', 'url_suffix': '/watch?v=AqBgZF6rlWo&pp=ygULbmjDom4gcXXhuqM%3D'}, {'id': 'FM5VQ9Xw_KE', 'thumbnails': ['https://i.ytimg.com/vi/FM5VQ9Xw_KE/hq720.jpg?sqp=-oaymwEjCOgCEMoBSFryq4qpAxUIARUAAAAAGAElAADIQj0AgKJDeAE=&rs=AOn4CLCoJr4AN-7qCTTz3h7OIAfHlYb9vQ', 'https://i.ytimg.com/vi/FM5VQ9Xw_KE/hq720.jpg?sqp=-oaymwEXCNAFEJQDSFryq4qpAwkIARUAAIhCGAE=&rs=AOn4CLDNbOTF6r8DaeakzjuHgGNxBSqiQA'], 'title': 'Nhân Quả Không Một Ai Ở Ngoài | Thầy Thích Trúc Thái Minh', 'long_desc': None, 'channel': 'Thầy Thích Trúc Thái Minh', 'duration': '1:26:43', 'views': '390,963 views', 'publish_time': '4 years ago', 'url_suffix': '/watch?v=FM5VQ9Xw_KE&pp=ygULbmjDom4gcXXhuqM%3D'}, {'id': 'ANpxQMWJ8ro', 'thumbnails': ['https://i.ytimg.com/vi/ANpxQMWJ8ro/hq720.jpg?sqp=-oaymwEjCOgCEMoBSFryq4qpAxUIARUAAAAAGAElAADIQj0AgKJDeAE=&rs=AOn4CLBssMw0voozRZxgjTsKmej5tPFtsQ', 'https://i.ytimg.com/vi/ANpxQMWJ8ro/hq720.jpg?sqp=-oaymwEXCNAFEJQDSFryq4qpAwkIARUAAIhCGAE=&rs=AOn4CLCKvb73vfPxNvUOjrzxvaCeFjziPg'], 'title': 'Chuyện Nhân Quả Báo Ứng, Nghe 1 Lần SỢ CẢ ĐỜI Không Giám Phạm | Phật Giáo Nhiệm Màu', 'long_desc': None, 'channel': 'Phật Giáo Nhiệm Màu', 'duration': '55:14', 'views': '1,351,494 views', 'publish_time': '2 years ago', 'url_suffix': '/watch?v=ANpxQMWJ8ro&pp=ygULbmjDom4gcXXhuqM%3D'}, {'id': 'fzF2jML4mrE', 'thumbnails': ['https://i.ytimg.com/vi/fzF2jML4mrE/hq720.jpg?sqp=-oaymwEjCOgCEMoBSFryq4qpAxUIARUAAAAAGAElAADIQj0AgKJDeAE=&rs=AOn4CLDICdmXgLNH-uQjjDpTUay_c_xKWg', 'https://i.ytimg.com/vi/fzF2jML4mrE/hq720.jpg?sqp=-oaymwEXCNAFEJQDSFryq4qpAwkIARUAAIhCGAE=&rs=AOn4CLD7KPEP_4u5L672P-26YrUMtBtpsQ'], 'title': 'Nghe thử 1 lần nhớ đến già : NHÂN QUẢ..FULL - Truyện đêm khuya MC Hồng Huệ diễn đọc xao xuyến', 'long_desc': None, 'channel': 'Truyện Đêm Live / Podcast - Q Studio', 'duration': '1:25:40', 'views': '462,263 views', 'publish_time': '5 months ago', 'url_suffix': '/watch?v=fzF2jML4mrE&pp=ygULbmjDom4gcXXhuqM%3D'}, {'id': 'OPpcXg6nfWk', 'thumbnails': ['https://i.ytimg.com/vi/OPpcXg6nfWk/hq720.jpg?sqp=-oaymwEjCOgCEMoBSFryq4qpAxUIARUAAAAAGAElAADIQj0AgKJDeAE=&rs=AOn4CLA6cNx0DP98AVa4UQQy1F1CD490vw', 'https://i.ytimg.com/vi/OPpcXg6nfWk/hq720.jpg?sqp=-oaymwEXCNAFEJQDSFryq4qpAwkIARUAAIhCGAE=&rs=AOn4CLAXsF4C5wMgXEfVUbXT8zS5BGhPFg'], 'title': 'Nhân Quả 3 Đời (Bản đầy đủ)_Nhân Quả Từ Kiếp Trước', 'long_desc': None, 'channel': 'Hung Nguyen', 'duration': '5:22:56', 'views': '3,982,481 views', 'publish_time': '5 years ago', 'url_suffix': '/watch?v=OPpcXg6nfWk&pp=ygULbmjDom4gcXXhuqM%3D'}, {'id': 'c7GNPMBwcoI', 'thumbnails': ['https://i.ytimg.com/vi/c7GNPMBwcoI/hq720.jpg?sqp=-oaymwEjCOgCEMoBSFryq4qpAxUIARUAAAAAGAElAADIQj0AgKJDeAE=&rs=AOn4CLDXWtab-R0C7Lt0Rf_cZ-DxLyQ3EA', 'https://i.ytimg.com/vi/c7GNPMBwcoI/hq720.jpg?sqp=-oaymwEXCNAFEJQDSFryq4qpAwkIARUAAIhCGAE=&rs=AOn4CLAjIU_qNYRdkB8wkNvadBXBWv_hUg'], 'title': '12 Luật Nhân Quả Sẽ Đến Ngay Trước Mắt, Đừng Nên Xem Thường - Mới.', 'long_desc': None, 'channel': 'Audio Phật Pháp', 'duration': '4:34:22', 'views': '29,707 views', 'publish_time': 'Streamed 7 months ago', 'url_suffix': '/watch?v=c7GNPMBwcoI&pp=ygULbmjDom4gcXXhuqM%3D'}]\n"
          ]
        }
      ],
      "source": [
        "from youtube_search  import YoutubeSearch\n",
        "import webbrowser\n",
        "mysong=input('bói')\n",
        "result=YoutubeSearch(mysong,max_results=10).to_dict()\n",
        "print(result)"
      ]
    },
    {
      "cell_type": "code",
      "source": [
        "print(result[0]['url_suffix'])\n",
        "url='http://www.youtube.com'+ result[0]['url_suffix']\n",
        "print(url)"
      ],
      "metadata": {
        "colab": {
          "base_uri": "https://localhost:8080/"
        },
        "id": "8-Gbuyua6LWF",
        "outputId": "951275a2-dc69-432e-d27a-72edf159bc86"
      },
      "execution_count": null,
      "outputs": [
        {
          "output_type": "stream",
          "name": "stdout",
          "text": [
            "/watch?v=S7Zb_n7N47E&pp=ygULbmjDom4gcXXhuqM%3D\n",
            "http://www.youtube.com/watch?v=S7Zb_n7N47E&pp=ygULbmjDom4gcXXhuqM%3D\n"
          ]
        }
      ]
    },
    {
      "cell_type": "code",
      "source": [
        "pip install openpyxl\n",
        "# trình xử lý dữ liệu trên file excel"
      ],
      "metadata": {
        "colab": {
          "base_uri": "https://localhost:8080/"
        },
        "id": "n2wV1qUD7s1F",
        "outputId": "70624cfb-e7d9-4839-ebfd-2bdc5b61a1c5"
      },
      "execution_count": null,
      "outputs": [
        {
          "output_type": "stream",
          "name": "stdout",
          "text": [
            "Looking in indexes: https://pypi.org/simple, https://us-python.pkg.dev/colab-wheels/public/simple/\n",
            "Requirement already satisfied: openpyxl in /usr/local/lib/python3.9/dist-packages (3.0.10)\n",
            "Requirement already satisfied: et-xmlfile in /usr/local/lib/python3.9/dist-packages (from openpyxl) (1.1.0)\n"
          ]
        }
      ]
    },
    {
      "cell_type": "code",
      "source": [
        "from youtube_search  import YoutubeSearch\n",
        "import webbrowser\n",
        "mysong=input('Ten bai hat: ')\n",
        "result=YoutubeSearch(mysong,max_results=10).to_dict()\n",
        "print(result)\n",
        "from openpyxl import Workbook\n",
        "data=Workbook()\n",
        "sheet=data.active\n",
        "for i in range(10):\n",
        "  print(result[i]['title'])\n",
        "  print(result[i]['url_suffix'])\n",
        "  url='http://www.youtube.com'+ result[0]['url_suffix']\n",
        "  print(url)\n",
        "  sheet['A'+str(i+1)]=i+1\n",
        "  sheet['B'+str(i+1)]=result[i]['title']\n",
        "  sheet['C'+str(i+1)]=result[i]['url_suffix']\n",
        "  sheet['D'+str(i+1)]=result[i]['views']\n",
        "\n",
        "\n",
        "\n",
        "  data.save('luot_xem_youtube.xlsx')"
      ],
      "metadata": {
        "colab": {
          "base_uri": "https://localhost:8080/",
          "height": 356
        },
        "id": "eIZJSz-Z7tX8",
        "outputId": "d28c0ef0-2351-47c0-c062-dbc780718690"
      },
      "execution_count": null,
      "outputs": [
        {
          "output_type": "stream",
          "name": "stdout",
          "text": [
            "Ten bai hat: lạc trôi\n",
            "[{'id': 'Llw9Q6akRo4', 'thumbnails': ['https://i.ytimg.com/vi/Llw9Q6akRo4/hq720.jpg?sqp=-oaymwEjCOgCEMoBSFryq4qpAxUIARUAAAAAGAElAADIQj0AgKJDeAE=&rs=AOn4CLB6m46OSKLleNzNg_yD9qkNZuCbKA', 'https://i.ytimg.com/vi/Llw9Q6akRo4/hq720.jpg?sqp=-oaymwEXCNAFEJQDSFryq4qpAwkIARUAAIhCGAE=&rs=AOn4CLDiuuOh623ZIDjWHiDqZumECbzYrg'], 'title': 'LẠC TRÔI | OFFICIAL MUSIC VIDEO | SƠN TÙNG M-TP', 'long_desc': None, 'channel': 'Sơn Tùng M-TP Official', 'duration': '4:33', 'views': '258,924,488 views', 'publish_time': '6 years ago', 'url_suffix': '/watch?v=Llw9Q6akRo4&pp=ygULbOG6oWMgdHLDtGk%3D'}, {'id': 'Em0-1SkWd8E', 'thumbnails': ['https://i.ytimg.com/vi/Em0-1SkWd8E/hq720.jpg?sqp=-oaymwEjCOgCEMoBSFryq4qpAxUIARUAAAAAGAElAADIQj0AgKJDeAE=&rs=AOn4CLAZXyafNec_34i0iBD-a_Gc5cUE1w', 'https://i.ytimg.com/vi/Em0-1SkWd8E/hq720.jpg?sqp=-oaymwEXCNAFEJQDSFryq4qpAwkIARUAAIhCGAE=&rs=AOn4CLCWGXMYye4_bcGZDRDIeIeRpcb4iw'], 'title': 'Lạc Trôi - Sơn Tùng MTP (Làn Sóng Xanh 2016)', 'long_desc': None, 'channel': 'Nam Việt Official', 'duration': '3:54', 'views': '13,063,480 views', 'publish_time': '6 years ago', 'url_suffix': '/watch?v=Em0-1SkWd8E&pp=ygULbOG6oWMgdHLDtGk%3D'}, {'id': 'LooaSRRkhkM', 'thumbnails': ['https://i.ytimg.com/vi/LooaSRRkhkM/hq720.jpg?sqp=-oaymwEjCOgCEMoBSFryq4qpAxUIARUAAAAAGAElAADIQj0AgKJDeAE=&rs=AOn4CLC0AwP95K2nK6vzOsU2xQPFoDjjrQ', 'https://i.ytimg.com/vi/LooaSRRkhkM/hq720.jpg?sqp=-oaymwEXCNAFEJQDSFryq4qpAwkIARUAAIhCGAE=&rs=AOn4CLAXVIjfEJRWGc7gS10_rFtFg9OA2g'], 'title': 'Choáng mạnh với màn trình diễn hit Lạc Trôi của Tí Nâu| The Masked Singer Vietnam [Live Stage]', 'long_desc': None, 'channel': 'Vie Channel - HTV2', 'duration': '16:58', 'views': '1,053,065 views', 'publish_time': '6 months ago', 'url_suffix': '/watch?v=LooaSRRkhkM&pp=ygULbOG6oWMgdHLDtGk%3D'}, {'id': 'F3vrdY2gsJ0', 'thumbnails': ['https://i.ytimg.com/vi/F3vrdY2gsJ0/hq720.jpg?sqp=-oaymwEjCOgCEMoBSFryq4qpAxUIARUAAAAAGAElAADIQj0AgKJDeAE=&rs=AOn4CLD4-G75sc78il0w3UXqIMQLuxbRRQ', 'https://i.ytimg.com/vi/F3vrdY2gsJ0/hq720.jpg?sqp=-oaymwEXCNAFEJQDSFryq4qpAwkIARUAAIhCGAE=&rs=AOn4CLCdFS7OOL0Oda1kVS1iPsJWNCyriw'], 'title': 'Lạc Trôi - Tí Nâu | The Masked Singer Vietnam [Audio Lyrics]', 'long_desc': None, 'channel': 'Vie Channel - HTV2', 'duration': '6:01', 'views': '649,049 views', 'publish_time': '6 months ago', 'url_suffix': '/watch?v=F3vrdY2gsJ0&pp=ygULbOG6oWMgdHLDtGk%3D'}, {'id': 'lV1fC8CkGS4', 'thumbnails': ['https://i.ytimg.com/vi/lV1fC8CkGS4/hqdefault.jpg?sqp=-oaymwEjCOADEI4CSFryq4qpAxUIARUAAAAAGAElAADIQj0AgKJDeAE=&rs=AOn4CLD7uYelmdCIgLCJF6ghWtuXMSjVPg'], 'title': 'Thánh lạc trôi phải kêu bà lão này bằng sư tổ - Nhảy Vũ Duy Minh kiềm cái loa không nổi- 2023', 'long_desc': None, 'channel': 'CA NhẠC Sĩ - Vũ Duy Minh', 'duration': '4:01', 'views': '827 views', 'publish_time': '21 hours ago', 'url_suffix': '/watch?v=lV1fC8CkGS4&pp=ygULbOG6oWMgdHLDtGk%3D'}, {'id': 'RBUzwmGq2n8', 'thumbnails': ['https://i.ytimg.com/vi/RBUzwmGq2n8/hq720.jpg?sqp=-oaymwE9COgCEMoBSFryq4qpAy8IARUAAAAAGAElAADIQj0AgKJDeAHwAQH4Af4JgALQBYoCDAgAEAEYZSBSKEgwDw==&rs=AOn4CLAurtYjFtwVZUucRoyZzH246hCJuQ', 'https://i.ytimg.com/vi/RBUzwmGq2n8/hq720.jpg?sqp=-oaymwExCNAFEJQDSFryq4qpAyMIARUAAIhCGAHwAQH4Af4JgALQBYoCDAgAEAEYZSBSKEgwDw==&rs=AOn4CLCTbe5ZDvyp6jOdAGG_r8AHDGlOwQ'], 'title': 'Lạc Trôi Remix cực chất hay hơn cả Sơn Tùng MTP', 'long_desc': None, 'channel': 'EDM Run Mix', 'duration': '3:53', 'views': '649,630 views', 'publish_time': '5 years ago', 'url_suffix': '/watch?v=RBUzwmGq2n8&pp=ygULbOG6oWMgdHLDtGk%3D'}, {'id': 'HZaShvbm8Q0', 'thumbnails': ['https://i.ytimg.com/vi/HZaShvbm8Q0/hqdefault.jpg?sqp=-oaymwEjCOADEI4CSFryq4qpAxUIARUAAAAAGAElAADIQj0AgKJDeAE=&rs=AOn4CLAhvQ39NL2ZW5UvnTXGqc5SY3YnRw'], 'title': 'LẠC TRÔI (TRIPLE D REMIX) | 360 DEGREE MV |  SƠN TÙNG M-TP', 'long_desc': None, 'channel': 'Sơn Tùng M-TP Official', 'duration': '4:20', 'views': '11,735,235 views', 'publish_time': '5 years ago', 'url_suffix': '/watch?v=HZaShvbm8Q0&pp=ygULbOG6oWMgdHLDtGk%3D'}, {'id': 'Hcq_CwsXL0o', 'thumbnails': ['https://i.ytimg.com/vi/Hcq_CwsXL0o/hq720.jpg?sqp=-oaymwEjCOgCEMoBSFryq4qpAxUIARUAAAAAGAElAADIQj0AgKJDeAE=&rs=AOn4CLA49Ani0-sxvdemwMU5q6JLA9tdMQ', 'https://i.ytimg.com/vi/Hcq_CwsXL0o/hq720.jpg?sqp=-oaymwEXCNAFEJQDSFryq4qpAwkIARUAAIhCGAE=&rs=AOn4CLCbdo4o8nmHvfWiQBOePAkG1GLWaw'], 'title': 'Lạc Trôi', 'long_desc': None, 'channel': 'Sơn Tùng M-TP Official', 'duration': '3:24', 'views': '35,647 views', 'publish_time': 0, 'url_suffix': '/watch?v=Hcq_CwsXL0o&pp=ygULbOG6oWMgdHLDtGk%3D'}, {'id': 'hcc0Y8KZK2M', 'thumbnails': ['https://i.ytimg.com/vi/hcc0Y8KZK2M/hq720.jpg?sqp=-oaymwEjCOgCEMoBSFryq4qpAxUIARUAAAAAGAElAADIQj0AgKJDeAE=&rs=AOn4CLDY0Nm3aHAqvr9WKrX_O1gURL8EEw', 'https://i.ytimg.com/vi/hcc0Y8KZK2M/hq720.jpg?sqp=-oaymwEXCNAFEJQDSFryq4qpAwkIARUAAIhCGAE=&rs=AOn4CLCpTEc1tPewuxfULYLzykAGdaIisQ'], 'title': 'LẠC TRÔI - THÙY CHI live at #Lululola', 'long_desc': None, 'channel': 'Lululola Coffee+', 'duration': '3:06', 'views': '20,515 views', 'publish_time': '2 months ago', 'url_suffix': '/watch?v=hcc0Y8KZK2M&pp=ygULbOG6oWMgdHLDtGk%3D'}, {'id': 'j4cP67AAQw4', 'thumbnails': ['https://i.ytimg.com/vi/j4cP67AAQw4/hq720.jpg?sqp=-oaymwE9COgCEMoBSFryq4qpAy8IARUAAAAAGAElAADIQj0AgKJDeAHwAQH4Af4JgALQBYoCDAgAEAEYQSBlKGEwDw==&rs=AOn4CLBGgTrj_447oTOQZoCq43xgwHrELA', 'https://i.ytimg.com/vi/j4cP67AAQw4/hq720.jpg?sqp=-oaymwExCNAFEJQDSFryq4qpAyMIARUAAIhCGAHwAQH4Af4JgALQBYoCDAgAEAEYQSBlKGEwDw==&rs=AOn4CLAs8ekGhl5zmjWIBSaVWXp_-PJpNg'], 'title': 'LẠC TRÔI VER 2-remix, (Hiệp music)||lạc trôi + runaway-aurura (lyrics) nhạc hót tiktok hiện nay', 'long_desc': None, 'channel': '🎵Hiệp music🎶', 'duration': '6:37', 'views': '440,208 views', 'publish_time': '2 months ago', 'url_suffix': '/watch?v=j4cP67AAQw4&pp=ygULbOG6oWMgdHLDtGk%3D'}]\n",
            "LẠC TRÔI | OFFICIAL MUSIC VIDEO | SƠN TÙNG M-TP\n",
            "/watch?v=Llw9Q6akRo4&pp=ygULbOG6oWMgdHLDtGk%3D\n",
            "http://www.youtube.com/watch?v=Llw9Q6akRo4&pp=ygULbOG6oWMgdHLDtGk%3D\n"
          ]
        },
        {
          "output_type": "error",
          "ename": "KeyError",
          "evalue": "ignored",
          "traceback": [
            "\u001b[0;31m---------------------------------------------------------------------------\u001b[0m",
            "\u001b[0;31mKeyError\u001b[0m                                  Traceback (most recent call last)",
            "\u001b[0;32m<ipython-input-23-570313490a88>\u001b[0m in \u001b[0;36m<cell line: 9>\u001b[0;34m()\u001b[0m\n\u001b[1;32m     17\u001b[0m   \u001b[0msheet\u001b[0m\u001b[0;34m[\u001b[0m\u001b[0;34m'D'\u001b[0m\u001b[0;34m+\u001b[0m\u001b[0mstr\u001b[0m\u001b[0;34m(\u001b[0m\u001b[0mi\u001b[0m\u001b[0;34m+\u001b[0m\u001b[0;36m1\u001b[0m\u001b[0;34m)\u001b[0m\u001b[0;34m]\u001b[0m\u001b[0;34m=\u001b[0m\u001b[0mresult\u001b[0m\u001b[0;34m[\u001b[0m\u001b[0mi\u001b[0m\u001b[0;34m]\u001b[0m\u001b[0;34m[\u001b[0m\u001b[0;34m'views'\u001b[0m\u001b[0;34m]\u001b[0m\u001b[0;34m\u001b[0m\u001b[0;34m\u001b[0m\u001b[0m\n\u001b[1;32m     18\u001b[0m \u001b[0;34m\u001b[0m\u001b[0m\n\u001b[0;32m---> 19\u001b[0;31m   \u001b[0msheet\u001b[0m\u001b[0;34m[\u001b[0m\u001b[0;34m'F'\u001b[0m\u001b[0;34m+\u001b[0m\u001b[0mstr\u001b[0m\u001b[0;34m(\u001b[0m\u001b[0mi\u001b[0m\u001b[0;34m+\u001b[0m\u001b[0;36m1\u001b[0m\u001b[0;34m)\u001b[0m\u001b[0;34m]\u001b[0m\u001b[0;34m=\u001b[0m\u001b[0mresult\u001b[0m\u001b[0;34m[\u001b[0m\u001b[0mi\u001b[0m\u001b[0;34m]\u001b[0m\u001b[0;34m[\u001b[0m\u001b[0;34m'direction'\u001b[0m\u001b[0;34m]\u001b[0m\u001b[0;34m\u001b[0m\u001b[0;34m\u001b[0m\u001b[0m\n\u001b[0m\u001b[1;32m     20\u001b[0m \u001b[0;34m\u001b[0m\u001b[0m\n\u001b[1;32m     21\u001b[0m \u001b[0;34m\u001b[0m\u001b[0m\n",
            "\u001b[0;31mKeyError\u001b[0m: 'direction'"
          ]
        }
      ]
    }
  ]
}