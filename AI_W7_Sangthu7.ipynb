{
  "nbformat": 4,
  "nbformat_minor": 0,
  "metadata": {
    "colab": {
      "provenance": [],
      "authorship_tag": "ABX9TyPgN4+NNh1vV9qIcnYyCLGc",
      "include_colab_link": true
    },
    "kernelspec": {
      "name": "python3",
      "display_name": "Python 3"
    },
    "language_info": {
      "name": "python"
    }
  },
  "cells": [
    {
      "cell_type": "markdown",
      "metadata": {
        "id": "view-in-github",
        "colab_type": "text"
      },
      "source": [
        "<a href=\"https://colab.research.google.com/github/Alex-Hoang666/AI/blob/main/AI_W7_Sangthu7.ipynb\" target=\"_parent\"><img src=\"https://colab.research.google.com/assets/colab-badge.svg\" alt=\"Open In Colab\"/></a>"
      ]
    },
    {
      "cell_type": "code",
      "execution_count": null,
      "metadata": {
        "id": "V9uthzlEFvJV"
      },
      "outputs": [],
      "source": [
        "#vẽ biểu đồ data\n",
        "import pandas as pd\n",
        "url='mtcars.csv'\n",
        "data=pd.read_csv(url)\n",
        "data.head()\n",
        "import matplotlib.pyplot as plt\n",
        "data.hist()\n",
        "plt.show()"
      ]
    },
    {
      "cell_type": "code",
      "source": [
        "#mối tương quan giữa các biếns\n",
        "correlations=data.corr()\n",
        "print(correlations)"
      ],
      "metadata": {
        "id": "PkFpCfz0Gy4H"
      },
      "execution_count": null,
      "outputs": []
    },
    {
      "cell_type": "code",
      "source": [
        "#hiển thị bằng bảng đồ màu thay vì ma trận số\n",
        "import seaborn as sns\n",
        "sns.heatmap(correlations,annot=True)\n",
        "sns.pairplot(data)"
      ],
      "metadata": {
        "id": "XYnLmDFrJGEw"
      },
      "execution_count": null,
      "outputs": []
    },
    {
      "cell_type": "code",
      "source": [
        "from sklearn import linear_model\n",
        "model=linear_model.LinearRegression()\n",
        "model.fit(X=pd.DataFrame(data['wt']), y=data['mpg'])\n",
        "print('he so intercept',model.intercept_)\n",
        "print('he so coef',model.coef_)\n",
        "model.score(X=pd.DataFrame(data['wt']),y=data['mpg'])"
      ],
      "metadata": {
        "id": "GtU7ghTKJskh"
      },
      "execution_count": null,
      "outputs": []
    },
    {
      "cell_type": "code",
      "source": [
        "y_pred=model.predict(X=pd.DataFrame(data['wt']))"
      ],
      "metadata": {
        "id": "JqHhieXmNgBP"
      },
      "execution_count": 92,
      "outputs": []
    },
    {
      "cell_type": "code",
      "source": [
        "data.plot(kind='scatter',x='wt',y='mpg',figsize=(9,9),color='black',xlim=(0,7))\n",
        "plt.plot(data['wt'],y_pred,color='blue')"
      ],
      "metadata": {
        "id": "qV5uqjOjN4o2"
      },
      "execution_count": null,
      "outputs": []
    },
    {
      "cell_type": "code",
      "source": [
        "model=linear_model.LinearRegression()\n",
        "X=pd.DataFrame([data['wt'] ,data['wt']**2]).T  #chuyển hàng thành cột\n",
        "model.fit(X,y=data['mpg'])\n",
        "print('Intercept của mô hình:',model.intercept_)\n",
        "print('coef cua mo hinh:',model.coef_)\n",
        "print('Độ chính xác:',model.score(X,y=data['mpg']))\n",
        "range=np.arange(1.5,5.5,0.1)\n",
        "X_range=pd.DataFrame([range,range**2]).T\n",
        "y_pred=model.predict(X=X_range)\n",
        "data.plot(kind='scatter',x='wt',y='mpg',figsize=(9,9),color='black')\n",
        "plt.plot(range,y_pred,color='blue')"
      ],
      "metadata": {
        "id": "wcXaVy1yO6RY"
      },
      "execution_count": null,
      "outputs": []
    },
    {
      "cell_type": "code",
      "source": [
        "#2 biến\n",
        "model=linear_model.LinearRegression()\n",
        "model.fit(X=data.loc[:,['wt','hp']],y=data['mpg'])\n",
        "print('Intercept là:',model.intercept_)\n",
        "print('Coeffient là:',model.coef_)\n",
        "print('Độ chính xác:',model.score(X=data.loc[:,['wt','hp']],y=data['mpg']))"
      ],
      "metadata": {
        "colab": {
          "base_uri": "https://localhost:8080/"
        },
        "id": "zyIwsp2qmnZm",
        "outputId": "c0d629f8-f5e0-4314-e14f-109badf18db2"
      },
      "execution_count": 118,
      "outputs": [
        {
          "output_type": "stream",
          "name": "stdout",
          "text": [
            "Intercept là: 37.227270116447215\n",
            "Coeffient là: [-3.87783074 -0.03177295]\n",
            "Độ chính xác: 0.8267854518827914\n"
          ]
        }
      ]
    }
  ]
}